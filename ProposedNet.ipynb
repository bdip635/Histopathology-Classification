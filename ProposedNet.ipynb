{
  "nbformat": 4,
  "nbformat_minor": 0,
  "metadata": {
    "accelerator": "GPU",
    "colab": {
      "name": "LiverNetwithDenseASPP_Final.ipynb",
      "provenance": [],
      "collapsed_sections": [],
      "include_colab_link": true
    },
    "kernelspec": {
      "display_name": "Python 3",
      "name": "python3"
    }
  },
  "cells": [
    {
      "cell_type": "markdown",
      "metadata": {
        "id": "view-in-github",
        "colab_type": "text"
      },
      "source": [
        "<a href=\"https://colab.research.google.com/github/bdip635/Histopathology-Classification/blob/main/ProposedNet.ipynb\" target=\"_parent\"><img src=\"https://colab.research.google.com/assets/colab-badge.svg\" alt=\"Open In Colab\"/></a>"
      ]
    },
    {
      "cell_type": "code",
      "metadata": {
        "id": "iOnzBnai_RVp"
      },
      "source": [
        "import torch\n",
        "import torch.nn as nn\n",
        "import torch.optim as optim\n",
        "import torch.nn.functional as F\n",
        "from torch.utils.data import DataLoader\n",
        "import torchvision.datasets as datasets\n",
        "import torchvision.transforms as transforms\n",
        "import torchvision\n",
        "from torchsummary import summary\n",
        "from tqdm import tqdm\n",
        "from torch.cuda.amp.grad_scaler import GradScaler\n",
        "\n",
        "import matplotlib.pyplot as plt\n",
        "import numpy as np\n",
        "import os\n",
        "import math\n",
        "import cv2\n",
        "from sklearn.metrics import ConfusionMatrixDisplay as CMD\n",
        "from sklearn.metrics import confusion_matrix as CMT\n",
        "from sklearn.metrics import precision_recall_fscore_support, accuracy_score"
      ],
      "execution_count": null,
      "outputs": []
    },
    {
      "cell_type": "code",
      "metadata": {
        "colab": {
          "base_uri": "https://localhost:8080/"
        },
        "id": "jm62yiRGGzFS",
        "outputId": "32d396a4-650a-43a5-ced2-6f094a51b312"
      },
      "source": [
        "!pip install pkbar\n",
        "import pkbar"
      ],
      "execution_count": null,
      "outputs": [
        {
          "output_type": "stream",
          "text": [
            "Collecting pkbar\n",
            "  Downloading https://files.pythonhosted.org/packages/95/8f/28e0a21b27f836a8903315050db17dd68e55bf477b6fde52d1c68da3c8a6/pkbar-0.5-py3-none-any.whl\n",
            "Requirement already satisfied: numpy in /usr/local/lib/python3.7/dist-packages (from pkbar) (1.19.5)\n",
            "Installing collected packages: pkbar\n",
            "Successfully installed pkbar-0.5\n"
          ],
          "name": "stdout"
        }
      ]
    },
    {
      "cell_type": "code",
      "metadata": {
        "colab": {
          "base_uri": "https://localhost:8080/"
        },
        "id": "VF0JH8tHXNmv",
        "outputId": "67ee1d48-7803-48ae-b6c1-6e383ff2025a"
      },
      "source": [
        "from google.colab import drive\n",
        "drive.mount('/content/drive')"
      ],
      "execution_count": null,
      "outputs": [
        {
          "output_type": "stream",
          "text": [
            "Go to this URL in a browser: https://accounts.google.com/o/oauth2/auth?client_id=947318989803-6bn6qk8qdgf4n4g3pfee6491hc0brc4i.apps.googleusercontent.com&redirect_uri=urn%3aietf%3awg%3aoauth%3a2.0%3aoob&scope=email%20https%3a%2f%2fwww.googleapis.com%2fauth%2fdocs.test%20https%3a%2f%2fwww.googleapis.com%2fauth%2fdrive%20https%3a%2f%2fwww.googleapis.com%2fauth%2fdrive.photos.readonly%20https%3a%2f%2fwww.googleapis.com%2fauth%2fpeopleapi.readonly%20https%3a%2f%2fwww.googleapis.com%2fauth%2fdrive.activity.readonly%20https%3a%2f%2fwww.googleapis.com%2fauth%2fexperimentsandconfigs%20https%3a%2f%2fwww.googleapis.com%2fauth%2fphotos.native&response_type=code\n",
            "\n",
            "Enter your authorization code:\n",
            "4/1AY0e-g4FsZLbF7wDxlY7qWicmjXoEemqEgaDU5I8Oiq1wggKRu39SWeiYqk\n"
          ],
          "name": "stdout"
        },
        {
          "output_type": "stream",
          "text": [
            "Mounted at /content/drive\n"
          ],
          "name": "stdout"
        }
      ]
    },
    {
      "cell_type": "code",
      "metadata": {
        "id": "DVoBgr3YAP9v"
      },
      "source": [
        "batch_size = 4\n",
        "param = 128\n",
        "device = 'cuda' if torch.cuda.is_available() else 'cpu'\n",
        "num_classes = 4\n",
        "input_shape = (3,224,224)\n",
        "scaler= GradScaler()"
      ],
      "execution_count": null,
      "outputs": []
    },
    {
      "cell_type": "code",
      "metadata": {
        "id": "Ao3vjZ8nfaRy"
      },
      "source": [
        "main_path = 'drive/My Drive/Course Project Image Processing - Histopathology/KMC Dataset'\n",
        "work_path = 'drive/My Drive/Course Project Image Processing - Histopathology/db_dir'\n",
        "train_dir= os.path.join(main_path,'Training')\n",
        "test_dir= os.path.join(main_path,'Test')\n",
        "val_dir= os.path.join(main_path,'Validation')\n",
        "\n",
        "load = 1\n",
        "check_pt_file_load = os.path.join(work_path, 'LiverNetwithDenseASPP_1e-3.pth.tar')\n",
        "check_pt_file = os.path.join(work_path, 'LiverNetwithDenseASPP_1e-4.pth.tar')"
      ],
      "execution_count": null,
      "outputs": []
    },
    {
      "cell_type": "code",
      "metadata": {
        "id": "TSDTwhDqOG8m"
      },
      "source": [
        "my_transforms = transforms.Compose([ #Compose makes it possible to have many transforms\n",
        "    transforms.ColorJitter(brightness=0.3, contrast=0.3), # Change brightness of image\n",
        "    transforms.RandomRotation(degrees=15), # Perhaps a random rotation from -45 to 45 degrees\n",
        "    transforms.RandomHorizontalFlip(p=0.5), # Flips the image horizontally with probability 0.5\n",
        "    transforms.RandomVerticalFlip(p=0.05), # Flips image vertically with probability 0.05\n",
        "    transforms.ToTensor() # Finally converts PIL image to tensor so we can train w. pytorch\n",
        "    ])"
      ],
      "execution_count": null,
      "outputs": []
    },
    {
      "cell_type": "code",
      "metadata": {
        "id": "9x2vEw-Tf_vk"
      },
      "source": [
        "train_data= datasets.ImageFolder(train_dir, transform= my_transforms)\n",
        "test_data= datasets.ImageFolder(test_dir, transform= transforms.ToTensor())\n",
        "val_data= datasets.ImageFolder(val_dir, transform= transforms.ToTensor())"
      ],
      "execution_count": null,
      "outputs": []
    },
    {
      "cell_type": "code",
      "metadata": {
        "id": "wEDaY7p9gsEz"
      },
      "source": [
        "train_loader= DataLoader(train_data, batch_size=batch_size, shuffle=True)\n",
        "test_loader= DataLoader(test_data, batch_size=batch_size, shuffle=True)\n",
        "val_loader= DataLoader(val_data, batch_size=batch_size, shuffle=True)"
      ],
      "execution_count": null,
      "outputs": []
    },
    {
      "cell_type": "code",
      "metadata": {
        "colab": {
          "base_uri": "https://localhost:8080/"
        },
        "id": "lCHEpxdooz1E",
        "outputId": "91d202a0-18e7-4632-cd51-00766a22b6b8"
      },
      "source": [
        "class_dict=train_data.class_to_idx\n",
        "print(class_dict)\n",
        "class_labels = class_dict.values()\n",
        "print(class_labels)"
      ],
      "execution_count": null,
      "outputs": [
        {
          "output_type": "stream",
          "text": [
            "{'grade0': 0, 'grade1': 1, 'grade2': 2, 'grade3': 3}\n",
            "dict_values([0, 1, 2, 3])\n"
          ],
          "name": "stdout"
        }
      ]
    },
    {
      "cell_type": "markdown",
      "metadata": {
        "id": "hWJYfR16O-0l"
      },
      "source": [
        "### Plotting the images with classes\n",
        "\n"
      ]
    },
    {
      "cell_type": "code",
      "metadata": {
        "colab": {
          "base_uri": "https://localhost:8080/",
          "height": 183
        },
        "id": "9gIA-Bc-iKHT",
        "outputId": "b6adc347-b359-42c9-feb1-5116fa716b20"
      },
      "source": [
        "iterator= iter(train_loader)\n",
        "it= next(iterator)\n",
        "images, labels= it\n",
        "\n",
        "plt.figure(figsize=(20,20))\n",
        "for r in range(batch_size):\n",
        "    plt.subplot(4,8,r+1)\n",
        "    f= plt.imshow(images[r].permute(2,1,0))\n",
        "    plt.title(labels[r].item())\n",
        "plt.show()"
      ],
      "execution_count": null,
      "outputs": [
        {
          "output_type": "display_data",
          "data": {
            "image/png": "[encoded data removed]",
            "text/plain": [
              "<Figure size 1440x1440 with 4 Axes>"
            ]
          },
          "metadata": {
            "tags": [],
            "needs_background": "light"
          }
        }
      ]
    },
    {
      "cell_type": "markdown",
      "metadata": {
        "id": "JWKrNvqrjKPk"
      },
      "source": [
        "#### Comparision Between Separable Convolutions and Straight Forward Convolution"
      ]
    },
    {
      "cell_type": "code",
      "metadata": {
        "id": "5bGExKo2-9Dq"
      },
      "source": [
        "class Separable_Conv_Block(nn.Module):\n",
        "    def __init__(self, in_channels, out_channels, kernel_size, stride=1, padding=0, dilation=1):\n",
        "        super(Separable_Conv_Block, self).__init__()\n",
        "        #At groups= in_channels, each input channel is convolved with its own set of filters.\n",
        "        self.depth_wise_conv = nn.Conv2d(in_channels, in_channels, kernel_size, stride=stride, padding=padding, dilation=dilation, groups=in_channels)\n",
        "        self.point_wise_conv = nn.Conv2d(in_channels, out_channels, kernel_size=1)\n",
        "        self.bn = nn.BatchNorm2d(out_channels, eps=0.001, momentum=0.1)\n",
        "        self.relu = nn.ReLU(inplace=True)\n",
        "    def forward(self, x):\n",
        "        x = self.depth_wise_conv(x)\n",
        "        x = self.point_wise_conv(x)\n",
        "        x = self.bn(x)\n",
        "        x = self.relu(x)\n",
        "        return x"
      ],
      "execution_count": null,
      "outputs": []
    },
    {
      "cell_type": "code",
      "metadata": {
        "id": "ukesJWKJQhPr"
      },
      "source": [
        "class Conv_Block(nn.Module):\n",
        "    def __init__(self, in_channels, out_channels, kernel_size, stride=1, padding=0, dilation=1):\n",
        "        super(Conv_Block, self).__init__()\n",
        "        self.conv = nn.Conv2d(in_channels, out_channels, kernel_size, stride=stride, padding=padding, dilation=dilation)\n",
        "        self.bn = nn.BatchNorm2d(out_channels, eps=0.001, momentum=0.1)\n",
        "        self.relu = nn.ReLU(inplace=True)\n",
        "    def forward(self, x):\n",
        "        x = self.conv(x)\n",
        "        x = self.bn(x)\n",
        "        x = self.relu(x)\n",
        "        return x"
      ],
      "execution_count": null,
      "outputs": []
    },
    {
      "cell_type": "code",
      "metadata": {
        "colab": {
          "base_uri": "https://localhost:8080/"
        },
        "id": "9rJAkirjQto6",
        "outputId": "c478bc2f-be25-4a21-b331-9af9761333f1"
      },
      "source": [
        "check_shape = (32,224,224)\n",
        "S = Separable_Conv_Block(32, 100, 3).to(device)\n",
        "C = Conv_Block(32, 100, 3).to(device)\n",
        "summary(S, input_size=check_shape, device=device)\n",
        "summary(C, input_size=check_shape, device=device)"
      ],
      "execution_count": null,
      "outputs": [
        {
          "output_type": "stream",
          "text": [
            "----------------------------------------------------------------\n",
            "        Layer (type)               Output Shape         Param #\n",
            "================================================================\n",
            "            Conv2d-1         [-1, 32, 222, 222]             320\n",
            "            Conv2d-2        [-1, 100, 222, 222]           3,300\n",
            "       BatchNorm2d-3        [-1, 100, 222, 222]             200\n",
            "              ReLU-4        [-1, 100, 222, 222]               0\n",
            "================================================================\n",
            "Total params: 3,820\n",
            "Trainable params: 3,820\n",
            "Non-trainable params: 0\n",
            "----------------------------------------------------------------\n",
            "Input size (MB): 6.12\n",
            "Forward/backward pass size (MB): 124.83\n",
            "Params size (MB): 0.01\n",
            "Estimated Total Size (MB): 130.97\n",
            "----------------------------------------------------------------\n",
            "----------------------------------------------------------------\n",
            "        Layer (type)               Output Shape         Param #\n",
            "================================================================\n",
            "            Conv2d-1        [-1, 100, 222, 222]          28,900\n",
            "       BatchNorm2d-2        [-1, 100, 222, 222]             200\n",
            "              ReLU-3        [-1, 100, 222, 222]               0\n",
            "================================================================\n",
            "Total params: 29,100\n",
            "Trainable params: 29,100\n",
            "Non-trainable params: 0\n",
            "----------------------------------------------------------------\n",
            "Input size (MB): 6.12\n",
            "Forward/backward pass size (MB): 112.80\n",
            "Params size (MB): 0.11\n",
            "Estimated Total Size (MB): 119.04\n",
            "----------------------------------------------------------------\n"
          ],
          "name": "stdout"
        }
      ]
    },
    {
      "cell_type": "markdown",
      "metadata": {
        "id": "S0o_-Ja9_ULm"
      },
      "source": [
        "## Architecture"
      ]
    },
    {
      "cell_type": "code",
      "metadata": {
        "id": "mpvU1mPQEG6y"
      },
      "source": [
        "class Residual_Block(nn.Module):\n",
        "  def __init__(self, in_channels, out_channels, identity_downsample = None, stride=1):\n",
        "    super(Residual_Block,self).__init__()\n",
        "    self.expn = 1\n",
        "    self.conv1 = Separable_Conv_Block(in_channels=in_channels, out_channels=out_channels, kernel_size=1, stride=1, padding=0)\n",
        "    self.bn1 = nn.BatchNorm2d(num_features=out_channels)\n",
        "\n",
        "    self.conv2= Separable_Conv_Block(in_channels=out_channels, out_channels=out_channels, kernel_size=3, stride=stride, padding=1)\n",
        "    self.bn2= nn.BatchNorm2d(num_features=out_channels)\n",
        "\n",
        "    self.conv3= Separable_Conv_Block(in_channels= out_channels, out_channels=out_channels*self.expn, kernel_size=1, stride=1, padding=0)\n",
        "    self.bn3= nn.BatchNorm2d(num_features=out_channels*self.expn)\n",
        "    self.relu= nn.ReLU()\n",
        "    self.identity_downsample = identity_downsample\n",
        "\n",
        "  def forward(self,x):\n",
        "\n",
        "    identity = x.clone()\n",
        "    x = nn.Sequential(self.conv1,\n",
        "                     self.bn1,\n",
        "                     self.relu,\n",
        "                     self.conv2,\n",
        "                     self.bn2,\n",
        "                     self.relu,\n",
        "                     self.conv3,\n",
        "                     self.bn3)(x)\n",
        "    if self.identity_downsample is not None:\n",
        "      identity = self.identity_downsample(identity)\n",
        "    x += identity\n",
        "    x = self.relu(x)\n",
        "    return x"
      ],
      "execution_count": null,
      "outputs": []
    },
    {
      "cell_type": "code",
      "metadata": {
        "id": "VVDpv1vTE14g"
      },
      "source": [
        "class Classifier(nn.Module):\n",
        "  def __init__(self, in_features, num_classes):\n",
        "    super(Classifier, self).__init__()\n",
        "\n",
        "    self.fc1=  nn.Sequential( nn.Linear(in_features, 256),\n",
        "                              nn.BatchNorm1d(256),\n",
        "                              nn.ReLU(),\n",
        "                              nn.Dropout(p=0.3)\n",
        "                            )\n",
        "    self.fc2= nn.Linear(256, num_classes)\n",
        "  \n",
        "  def forward(self, x):\n",
        "    x= x.reshape(x.shape[0],-1)\n",
        "    return self.fc2(self.fc1(x))"
      ],
      "execution_count": null,
      "outputs": []
    },
    {
      "cell_type": "code",
      "metadata": {
        "id": "Tl0dYCVmbOZZ"
      },
      "source": [
        "class CBAM_Block(nn.Module):\n",
        "\n",
        "  def __init__(self, in_features):\n",
        "    super(CBAM_Block, self).__init__()\n",
        "\n",
        "    self.avgpool= nn.AdaptiveAvgPool2d((1,1))\n",
        "    self.maxpool= nn.AdaptiveMaxPool2d((1,1))\n",
        "    self.fc= nn.Linear(in_features, in_features)\n",
        "    self.conv= Separable_Conv_Block(in_channels=2*in_features, out_channels=1, kernel_size=3, padding=1)\n",
        "    self.act= nn.Sigmoid()\n",
        "  \n",
        "  def forward(self, x):\n",
        "\n",
        "    A1= self.avgpool(x)\n",
        "    A1= A1.reshape(A1.shape[0], -1)\n",
        "    A2= self.maxpool(x)\n",
        "    A2= A2.reshape(A2.shape[0], -1)\n",
        "    Ac= self.act(self.fc(A1))+self.fc(A2)\n",
        "    Ac= torch.unsqueeze(torch.unsqueeze(Ac, 2), 3)*x\n",
        "\n",
        "    concat= torch.cat((self.avgpool(Ac), self.maxpool(Ac)), dim=1)\n",
        "    As= self.act(self.conv(concat))*Ac\n",
        "    return As"
      ],
      "execution_count": null,
      "outputs": []
    },
    {
      "cell_type": "code",
      "metadata": {
        "id": "ltwiWe_kXGQE"
      },
      "source": [
        "class DenseASPP_Block(nn.Module):\n",
        "  def __init__(self, in_channels, out_channels):\n",
        "    super(DenseASPP_Block, self).__init__()\n",
        "\n",
        "    self.conv1x1  = Separable_Conv_Block(in_channels, out_channels, kernel_size=1, stride=1)\n",
        "    self.conv3x3_2= Separable_Conv_Block(in_channels, out_channels, kernel_size=3, stride=1, padding=2, dilation=2)\n",
        "    self.conv1  = Separable_Conv_Block(in_channels+out_channels, in_channels, kernel_size=1, stride=1)\n",
        "    self.conv3x3_3= Separable_Conv_Block(in_channels, out_channels, kernel_size=3, stride=1, padding=3, dilation=3)\n",
        "    self.conv2  = Separable_Conv_Block(in_channels+2*out_channels, in_channels, kernel_size=1, stride=1)\n",
        "    self.conv3x3_4= Separable_Conv_Block(in_channels, out_channels, kernel_size=3, stride=1, padding=4, dilation=4)\n",
        "    self.conv3  = Separable_Conv_Block(in_channels+3*out_channels, in_channels, kernel_size=1, stride=1)\n",
        "    self.conv3x3_6= Separable_Conv_Block(in_channels, out_channels, kernel_size=3, stride=1, padding=6, dilation=6)\n",
        "    self.conv4  = Separable_Conv_Block(in_channels+4*out_channels, in_channels, kernel_size=1, stride=1)\n",
        "    self.global_pool= nn.Sequential(nn.MaxPool2d(kernel_size=2, stride=2),\n",
        "                                    Separable_Conv_Block(in_channels, out_channels, kernel_size=1),\n",
        "                                    nn.UpsamplingBilinear2d(scale_factor=2))\n",
        "\n",
        "  def forward(self, x):\n",
        "    op1=self.conv1x1(x)\n",
        "\n",
        "    op2= self.conv3x3_2(x)\n",
        "\n",
        "    x2=torch.cat([x,op2],1)\n",
        "    xt=self.conv1(x2)\n",
        "    op3= self.conv3x3_3(xt)\n",
        "    \n",
        "    x2=torch.cat([x2,op3],1)\n",
        "    xt=self.conv2(x2)\n",
        "    op4= self.conv3x3_4(xt)\n",
        "\n",
        "    x2=torch.cat([x2,op4],1)\n",
        "    xt=self.conv3(x2)\n",
        "    op5= self.conv3x3_6(xt)\n",
        "\n",
        "    # x2=torch.cat([x2,op5],1)\n",
        "    # x=self.conv4(x2)\n",
        "    op6= self.global_pool(x)\n",
        "\n",
        "    return torch.cat((op1,op2,op3,op4,op5,op6), dim=1)"
      ],
      "execution_count": null,
      "outputs": []
    },
    {
      "cell_type": "code",
      "metadata": {
        "id": "Zv1Z4fcJs-LV"
      },
      "source": [
        "class LiverNet(nn.Module):\n",
        "\n",
        "  def __init__(self, image_shape, num_classes):\n",
        "    super(LiverNet, self).__init__()\n",
        "\n",
        "    self.aspp_out_channels= param\n",
        "    self.conv_block_1= Separable_Conv_Block(3, 32, kernel_size=3, padding=1)\n",
        "    self.conv_block_2= Separable_Conv_Block(32, 32, kernel_size=3, padding=1)\n",
        "    self.pool= nn.MaxPool2d(kernel_size=2, stride=2)\n",
        "    self.global_avg_pool= nn.AdaptiveAvgPool2d((1,1))\n",
        "    self.conv_block_3= Separable_Conv_Block(32, 64, kernel_size=3, padding=1)\n",
        "    self.cbam= CBAM_Block(in_features=64)\n",
        "    self.res_block= Residual_Block(in_channels=64,\n",
        "                                     out_channels=64,\n",
        "                                     identity_downsample = Separable_Conv_Block(64, 64, kernel_size=1))\n",
        "    self.conv_block_4= Separable_Conv_Block(64, 64, kernel_size=3, padding=1)\n",
        "\n",
        "    self.aspp_1= DenseASPP_Block(in_channels=32, out_channels=self.aspp_out_channels)\n",
        "    self.aspp_2= DenseASPP_Block(in_channels=64, out_channels=self.aspp_out_channels)\n",
        "    self.upsample_1= nn.UpsamplingBilinear2d(scale_factor=2)\n",
        "    self.upsample_2= nn.UpsamplingBilinear2d(scale_factor=4)\n",
        "    self.upsample_3= nn.UpsamplingBilinear2d(scale_factor=8)\n",
        "    self.classifier= Classifier(in_features=self.aspp_out_channels*18, num_classes=num_classes)\n",
        "    \n",
        "  def forward(self, x):\n",
        "    x1= self.conv_block_1(x)\n",
        "    x1= self.conv_block_2(x1)\n",
        "    x1 = self.pool(x1)\n",
        "\n",
        "    x2= self.conv_block_3(x1)\n",
        "    x2= self.cbam(x2)\n",
        "    x2= self.res_block(x2)\n",
        "    x2= self.pool(x2)\n",
        "\n",
        "    x3= self.conv_block_4(x2)\n",
        "    x3= self.cbam(x3)\n",
        "    x3= self.res_block(x3)\n",
        "    x3= self.pool(x3)\n",
        "\n",
        "    a1= self.aspp_1(x1)\n",
        "    a1= self.upsample_1(a1)\n",
        "\n",
        "    a2= self.aspp_2(x2)\n",
        "    a2= self.upsample_2(a2)\n",
        "\n",
        "    a3= self.aspp_2(x3)\n",
        "    a3= self.upsample_3(a3)\n",
        "\n",
        "    out= torch.cat((a1,a2,a3), dim=1)\n",
        "    out= self.global_avg_pool(out)\n",
        "    out= self.classifier(out)\n",
        "\n",
        "    return out"
      ],
      "execution_count": null,
      "outputs": []
    },
    {
      "cell_type": "code",
      "metadata": {
        "colab": {
          "base_uri": "https://localhost:8080/"
        },
        "id": "BKGqmTzuoY36",
        "outputId": "91cc9620-06bb-4a1f-a898-e0b8ffa85ae2"
      },
      "source": [
        "model= LiverNet(input_shape, num_classes).to(device)\n",
        "summary(model, input_size= input_shape, batch_size=batch_size, device=device)"
      ],
      "execution_count": null,
      "outputs": [
        {
          "output_type": "stream",
          "text": [
            "----------------------------------------------------------------\n",
            "        Layer (type)               Output Shape         Param #\n",
            "================================================================\n",
            "            Conv2d-1           [4, 3, 224, 224]              30\n",
            "            Conv2d-2          [4, 32, 224, 224]             128\n",
            "       BatchNorm2d-3          [4, 32, 224, 224]              64\n",
            "              ReLU-4          [4, 32, 224, 224]               0\n",
            "Separable_Conv_Block-5          [4, 32, 224, 224]               0\n",
            "            Conv2d-6          [4, 32, 224, 224]             320\n",
            "            Conv2d-7          [4, 32, 224, 224]           1,056\n",
            "       BatchNorm2d-8          [4, 32, 224, 224]              64\n",
            "              ReLU-9          [4, 32, 224, 224]               0\n",
            "Separable_Conv_Block-10          [4, 32, 224, 224]               0\n",
            "        MaxPool2d-11          [4, 32, 112, 112]               0\n",
            "           Conv2d-12          [4, 32, 112, 112]             320\n",
            "           Conv2d-13          [4, 64, 112, 112]           2,112\n",
            "      BatchNorm2d-14          [4, 64, 112, 112]             128\n",
            "             ReLU-15          [4, 64, 112, 112]               0\n",
            "Separable_Conv_Block-16          [4, 64, 112, 112]               0\n",
            "AdaptiveAvgPool2d-17              [4, 64, 1, 1]               0\n",
            "AdaptiveMaxPool2d-18              [4, 64, 1, 1]               0\n",
            "           Linear-19                    [4, 64]           4,160\n",
            "          Sigmoid-20                    [4, 64]               0\n",
            "           Linear-21                    [4, 64]           4,160\n",
            "AdaptiveAvgPool2d-22              [4, 64, 1, 1]               0\n",
            "AdaptiveMaxPool2d-23              [4, 64, 1, 1]               0\n",
            "           Conv2d-24             [4, 128, 1, 1]           1,280\n",
            "           Conv2d-25               [4, 1, 1, 1]             129\n",
            "      BatchNorm2d-26               [4, 1, 1, 1]               2\n",
            "             ReLU-27               [4, 1, 1, 1]               0\n",
            "Separable_Conv_Block-28               [4, 1, 1, 1]               0\n",
            "          Sigmoid-29               [4, 1, 1, 1]               0\n",
            "       CBAM_Block-30          [4, 64, 112, 112]               0\n",
            "           Conv2d-31          [4, 64, 112, 112]             128\n",
            "           Conv2d-32          [4, 64, 112, 112]           4,160\n",
            "      BatchNorm2d-33          [4, 64, 112, 112]             128\n",
            "             ReLU-34          [4, 64, 112, 112]               0\n",
            "Separable_Conv_Block-35          [4, 64, 112, 112]               0\n",
            "      BatchNorm2d-36          [4, 64, 112, 112]             128\n",
            "             ReLU-37          [4, 64, 112, 112]               0\n",
            "           Conv2d-38          [4, 64, 112, 112]             640\n",
            "           Conv2d-39          [4, 64, 112, 112]           4,160\n",
            "      BatchNorm2d-40          [4, 64, 112, 112]             128\n",
            "             ReLU-41          [4, 64, 112, 112]               0\n",
            "Separable_Conv_Block-42          [4, 64, 112, 112]               0\n",
            "      BatchNorm2d-43          [4, 64, 112, 112]             128\n",
            "             ReLU-44          [4, 64, 112, 112]               0\n",
            "           Conv2d-45          [4, 64, 112, 112]             128\n",
            "           Conv2d-46          [4, 64, 112, 112]           4,160\n",
            "      BatchNorm2d-47          [4, 64, 112, 112]             128\n",
            "             ReLU-48          [4, 64, 112, 112]               0\n",
            "Separable_Conv_Block-49          [4, 64, 112, 112]               0\n",
            "      BatchNorm2d-50          [4, 64, 112, 112]             128\n",
            "           Conv2d-51          [4, 64, 112, 112]             128\n",
            "           Conv2d-52          [4, 64, 112, 112]           4,160\n",
            "      BatchNorm2d-53          [4, 64, 112, 112]             128\n",
            "             ReLU-54          [4, 64, 112, 112]               0\n",
            "Separable_Conv_Block-55          [4, 64, 112, 112]               0\n",
            "             ReLU-56          [4, 64, 112, 112]               0\n",
            "   Residual_Block-57          [4, 64, 112, 112]               0\n",
            "        MaxPool2d-58            [4, 64, 56, 56]               0\n",
            "           Conv2d-59            [4, 64, 56, 56]             640\n",
            "           Conv2d-60            [4, 64, 56, 56]           4,160\n",
            "      BatchNorm2d-61            [4, 64, 56, 56]             128\n",
            "             ReLU-62            [4, 64, 56, 56]               0\n",
            "Separable_Conv_Block-63            [4, 64, 56, 56]               0\n",
            "AdaptiveAvgPool2d-64              [4, 64, 1, 1]               0\n",
            "AdaptiveMaxPool2d-65              [4, 64, 1, 1]               0\n",
            "           Linear-66                    [4, 64]           4,160\n",
            "          Sigmoid-67                    [4, 64]               0\n",
            "           Linear-68                    [4, 64]           4,160\n",
            "AdaptiveAvgPool2d-69              [4, 64, 1, 1]               0\n",
            "AdaptiveMaxPool2d-70              [4, 64, 1, 1]               0\n",
            "           Conv2d-71             [4, 128, 1, 1]           1,280\n",
            "           Conv2d-72               [4, 1, 1, 1]             129\n",
            "      BatchNorm2d-73               [4, 1, 1, 1]               2\n",
            "             ReLU-74               [4, 1, 1, 1]               0\n",
            "Separable_Conv_Block-75               [4, 1, 1, 1]               0\n",
            "          Sigmoid-76               [4, 1, 1, 1]               0\n",
            "       CBAM_Block-77            [4, 64, 56, 56]               0\n",
            "           Conv2d-78            [4, 64, 56, 56]             128\n",
            "           Conv2d-79            [4, 64, 56, 56]           4,160\n",
            "      BatchNorm2d-80            [4, 64, 56, 56]             128\n",
            "             ReLU-81            [4, 64, 56, 56]               0\n",
            "Separable_Conv_Block-82            [4, 64, 56, 56]               0\n",
            "      BatchNorm2d-83            [4, 64, 56, 56]             128\n",
            "             ReLU-84            [4, 64, 56, 56]               0\n",
            "           Conv2d-85            [4, 64, 56, 56]             640\n",
            "           Conv2d-86            [4, 64, 56, 56]           4,160\n",
            "      BatchNorm2d-87            [4, 64, 56, 56]             128\n",
            "             ReLU-88            [4, 64, 56, 56]               0\n",
            "Separable_Conv_Block-89            [4, 64, 56, 56]               0\n",
            "      BatchNorm2d-90            [4, 64, 56, 56]             128\n",
            "             ReLU-91            [4, 64, 56, 56]               0\n",
            "           Conv2d-92            [4, 64, 56, 56]             128\n",
            "           Conv2d-93            [4, 64, 56, 56]           4,160\n",
            "      BatchNorm2d-94            [4, 64, 56, 56]             128\n",
            "             ReLU-95            [4, 64, 56, 56]               0\n",
            "Separable_Conv_Block-96            [4, 64, 56, 56]               0\n",
            "      BatchNorm2d-97            [4, 64, 56, 56]             128\n",
            "           Conv2d-98            [4, 64, 56, 56]             128\n",
            "           Conv2d-99            [4, 64, 56, 56]           4,160\n",
            "     BatchNorm2d-100            [4, 64, 56, 56]             128\n",
            "            ReLU-101            [4, 64, 56, 56]               0\n",
            "Separable_Conv_Block-102            [4, 64, 56, 56]               0\n",
            "            ReLU-103            [4, 64, 56, 56]               0\n",
            "  Residual_Block-104            [4, 64, 56, 56]               0\n",
            "       MaxPool2d-105            [4, 64, 28, 28]               0\n",
            "          Conv2d-106          [4, 32, 112, 112]              64\n",
            "          Conv2d-107         [4, 128, 112, 112]           4,224\n",
            "     BatchNorm2d-108         [4, 128, 112, 112]             256\n",
            "            ReLU-109         [4, 128, 112, 112]               0\n",
            "Separable_Conv_Block-110         [4, 128, 112, 112]               0\n",
            "          Conv2d-111          [4, 32, 112, 112]             320\n",
            "          Conv2d-112         [4, 128, 112, 112]           4,224\n",
            "     BatchNorm2d-113         [4, 128, 112, 112]             256\n",
            "            ReLU-114         [4, 128, 112, 112]               0\n",
            "Separable_Conv_Block-115         [4, 128, 112, 112]               0\n",
            "          Conv2d-116         [4, 160, 112, 112]             320\n",
            "          Conv2d-117          [4, 32, 112, 112]           5,152\n",
            "     BatchNorm2d-118          [4, 32, 112, 112]              64\n",
            "            ReLU-119          [4, 32, 112, 112]               0\n",
            "Separable_Conv_Block-120          [4, 32, 112, 112]               0\n",
            "          Conv2d-121          [4, 32, 112, 112]             320\n",
            "          Conv2d-122         [4, 128, 112, 112]           4,224\n",
            "     BatchNorm2d-123         [4, 128, 112, 112]             256\n",
            "            ReLU-124         [4, 128, 112, 112]               0\n",
            "Separable_Conv_Block-125         [4, 128, 112, 112]               0\n",
            "          Conv2d-126         [4, 288, 112, 112]             576\n",
            "          Conv2d-127          [4, 32, 112, 112]           9,248\n",
            "     BatchNorm2d-128          [4, 32, 112, 112]              64\n",
            "            ReLU-129          [4, 32, 112, 112]               0\n",
            "Separable_Conv_Block-130          [4, 32, 112, 112]               0\n",
            "          Conv2d-131          [4, 32, 112, 112]             320\n",
            "          Conv2d-132         [4, 128, 112, 112]           4,224\n",
            "     BatchNorm2d-133         [4, 128, 112, 112]             256\n",
            "            ReLU-134         [4, 128, 112, 112]               0\n",
            "Separable_Conv_Block-135         [4, 128, 112, 112]               0\n",
            "          Conv2d-136         [4, 416, 112, 112]             832\n",
            "          Conv2d-137          [4, 32, 112, 112]          13,344\n",
            "     BatchNorm2d-138          [4, 32, 112, 112]              64\n",
            "            ReLU-139          [4, 32, 112, 112]               0\n",
            "Separable_Conv_Block-140          [4, 32, 112, 112]               0\n",
            "          Conv2d-141          [4, 32, 112, 112]             320\n",
            "          Conv2d-142         [4, 128, 112, 112]           4,224\n",
            "     BatchNorm2d-143         [4, 128, 112, 112]             256\n",
            "            ReLU-144         [4, 128, 112, 112]               0\n",
            "Separable_Conv_Block-145         [4, 128, 112, 112]               0\n",
            "       MaxPool2d-146            [4, 32, 56, 56]               0\n",
            "          Conv2d-147            [4, 32, 56, 56]              64\n",
            "          Conv2d-148           [4, 128, 56, 56]           4,224\n",
            "     BatchNorm2d-149           [4, 128, 56, 56]             256\n",
            "            ReLU-150           [4, 128, 56, 56]               0\n",
            "Separable_Conv_Block-151           [4, 128, 56, 56]               0\n",
            "UpsamplingBilinear2d-152         [4, 128, 112, 112]               0\n",
            " DenseASPP_Block-153         [4, 768, 112, 112]               0\n",
            "UpsamplingBilinear2d-154         [4, 768, 224, 224]               0\n",
            "          Conv2d-155            [4, 64, 56, 56]             128\n",
            "          Conv2d-156           [4, 128, 56, 56]           8,320\n",
            "     BatchNorm2d-157           [4, 128, 56, 56]             256\n",
            "            ReLU-158           [4, 128, 56, 56]               0\n",
            "Separable_Conv_Block-159           [4, 128, 56, 56]               0\n",
            "          Conv2d-160            [4, 64, 56, 56]             640\n",
            "          Conv2d-161           [4, 128, 56, 56]           8,320\n",
            "     BatchNorm2d-162           [4, 128, 56, 56]             256\n",
            "            ReLU-163           [4, 128, 56, 56]               0\n",
            "Separable_Conv_Block-164           [4, 128, 56, 56]               0\n",
            "          Conv2d-165           [4, 192, 56, 56]             384\n",
            "          Conv2d-166            [4, 64, 56, 56]          12,352\n",
            "     BatchNorm2d-167            [4, 64, 56, 56]             128\n",
            "            ReLU-168            [4, 64, 56, 56]               0\n",
            "Separable_Conv_Block-169            [4, 64, 56, 56]               0\n",
            "          Conv2d-170            [4, 64, 56, 56]             640\n",
            "          Conv2d-171           [4, 128, 56, 56]           8,320\n",
            "     BatchNorm2d-172           [4, 128, 56, 56]             256\n",
            "            ReLU-173           [4, 128, 56, 56]               0\n",
            "Separable_Conv_Block-174           [4, 128, 56, 56]               0\n",
            "          Conv2d-175           [4, 320, 56, 56]             640\n",
            "          Conv2d-176            [4, 64, 56, 56]          20,544\n",
            "     BatchNorm2d-177            [4, 64, 56, 56]             128\n",
            "            ReLU-178            [4, 64, 56, 56]               0\n",
            "Separable_Conv_Block-179            [4, 64, 56, 56]               0\n",
            "          Conv2d-180            [4, 64, 56, 56]             640\n",
            "          Conv2d-181           [4, 128, 56, 56]           8,320\n",
            "     BatchNorm2d-182           [4, 128, 56, 56]             256\n",
            "            ReLU-183           [4, 128, 56, 56]               0\n",
            "Separable_Conv_Block-184           [4, 128, 56, 56]               0\n",
            "          Conv2d-185           [4, 448, 56, 56]             896\n",
            "          Conv2d-186            [4, 64, 56, 56]          28,736\n",
            "     BatchNorm2d-187            [4, 64, 56, 56]             128\n",
            "            ReLU-188            [4, 64, 56, 56]               0\n",
            "Separable_Conv_Block-189            [4, 64, 56, 56]               0\n",
            "          Conv2d-190            [4, 64, 56, 56]             640\n",
            "          Conv2d-191           [4, 128, 56, 56]           8,320\n",
            "     BatchNorm2d-192           [4, 128, 56, 56]             256\n",
            "            ReLU-193           [4, 128, 56, 56]               0\n",
            "Separable_Conv_Block-194           [4, 128, 56, 56]               0\n",
            "       MaxPool2d-195            [4, 64, 28, 28]               0\n",
            "          Conv2d-196            [4, 64, 28, 28]             128\n",
            "          Conv2d-197           [4, 128, 28, 28]           8,320\n",
            "     BatchNorm2d-198           [4, 128, 28, 28]             256\n",
            "            ReLU-199           [4, 128, 28, 28]               0\n",
            "Separable_Conv_Block-200           [4, 128, 28, 28]               0\n",
            "UpsamplingBilinear2d-201           [4, 128, 56, 56]               0\n",
            " DenseASPP_Block-202           [4, 768, 56, 56]               0\n",
            "UpsamplingBilinear2d-203         [4, 768, 224, 224]               0\n",
            "          Conv2d-204            [4, 64, 28, 28]             128\n",
            "          Conv2d-205           [4, 128, 28, 28]           8,320\n",
            "     BatchNorm2d-206           [4, 128, 28, 28]             256\n",
            "            ReLU-207           [4, 128, 28, 28]               0\n",
            "Separable_Conv_Block-208           [4, 128, 28, 28]               0\n",
            "          Conv2d-209            [4, 64, 28, 28]             640\n",
            "          Conv2d-210           [4, 128, 28, 28]           8,320\n",
            "     BatchNorm2d-211           [4, 128, 28, 28]             256\n",
            "            ReLU-212           [4, 128, 28, 28]               0\n",
            "Separable_Conv_Block-213           [4, 128, 28, 28]               0\n",
            "          Conv2d-214           [4, 192, 28, 28]             384\n",
            "          Conv2d-215            [4, 64, 28, 28]          12,352\n",
            "     BatchNorm2d-216            [4, 64, 28, 28]             128\n",
            "            ReLU-217            [4, 64, 28, 28]               0\n",
            "Separable_Conv_Block-218            [4, 64, 28, 28]               0\n",
            "          Conv2d-219            [4, 64, 28, 28]             640\n",
            "          Conv2d-220           [4, 128, 28, 28]           8,320\n",
            "     BatchNorm2d-221           [4, 128, 28, 28]             256\n",
            "            ReLU-222           [4, 128, 28, 28]               0\n",
            "Separable_Conv_Block-223           [4, 128, 28, 28]               0\n",
            "          Conv2d-224           [4, 320, 28, 28]             640\n",
            "          Conv2d-225            [4, 64, 28, 28]          20,544\n",
            "     BatchNorm2d-226            [4, 64, 28, 28]             128\n",
            "            ReLU-227            [4, 64, 28, 28]               0\n",
            "Separable_Conv_Block-228            [4, 64, 28, 28]               0\n",
            "          Conv2d-229            [4, 64, 28, 28]             640\n",
            "          Conv2d-230           [4, 128, 28, 28]           8,320\n",
            "     BatchNorm2d-231           [4, 128, 28, 28]             256\n",
            "            ReLU-232           [4, 128, 28, 28]               0\n",
            "Separable_Conv_Block-233           [4, 128, 28, 28]               0\n",
            "          Conv2d-234           [4, 448, 28, 28]             896\n",
            "          Conv2d-235            [4, 64, 28, 28]          28,736\n",
            "     BatchNorm2d-236            [4, 64, 28, 28]             128\n",
            "            ReLU-237            [4, 64, 28, 28]               0\n",
            "Separable_Conv_Block-238            [4, 64, 28, 28]               0\n",
            "          Conv2d-239            [4, 64, 28, 28]             640\n",
            "          Conv2d-240           [4, 128, 28, 28]           8,320\n",
            "     BatchNorm2d-241           [4, 128, 28, 28]             256\n",
            "            ReLU-242           [4, 128, 28, 28]               0\n",
            "Separable_Conv_Block-243           [4, 128, 28, 28]               0\n",
            "       MaxPool2d-244            [4, 64, 14, 14]               0\n",
            "          Conv2d-245            [4, 64, 14, 14]             128\n",
            "          Conv2d-246           [4, 128, 14, 14]           8,320\n",
            "     BatchNorm2d-247           [4, 128, 14, 14]             256\n",
            "            ReLU-248           [4, 128, 14, 14]               0\n",
            "Separable_Conv_Block-249           [4, 128, 14, 14]               0\n",
            "UpsamplingBilinear2d-250           [4, 128, 28, 28]               0\n",
            " DenseASPP_Block-251           [4, 768, 28, 28]               0\n",
            "UpsamplingBilinear2d-252         [4, 768, 224, 224]               0\n",
            "AdaptiveAvgPool2d-253            [4, 2304, 1, 1]               0\n",
            "          Linear-254                   [4, 256]         590,080\n",
            "     BatchNorm1d-255                   [4, 256]             512\n",
            "            ReLU-256                   [4, 256]               0\n",
            "         Dropout-257                   [4, 256]               0\n",
            "          Linear-258                     [4, 4]           1,028\n",
            "      Classifier-259                     [4, 4]               0\n",
            "================================================================\n",
            "Total params: 951,720\n",
            "Trainable params: 951,720\n",
            "Non-trainable params: 0\n",
            "----------------------------------------------------------------\n",
            "Input size (MB): 2.30\n",
            "Forward/backward pass size (MB): 7586.72\n",
            "Params size (MB): 3.63\n",
            "Estimated Total Size (MB): 7592.64\n",
            "----------------------------------------------------------------\n"
          ],
          "name": "stdout"
        }
      ]
    },
    {
      "cell_type": "markdown",
      "metadata": {
        "id": "zZ8RiWZT_eSV"
      },
      "source": [
        "##Training"
      ]
    },
    {
      "cell_type": "code",
      "metadata": {
        "id": "VRISiTQsX6OP"
      },
      "source": [
        "learning_rate=1e-4\n",
        "num_epochs= 30"
      ],
      "execution_count": null,
      "outputs": []
    },
    {
      "cell_type": "code",
      "metadata": {
        "id": "64iVEIrkuO_l"
      },
      "source": [
        "Loss= nn.CrossEntropyLoss()\n",
        "optimizer= optim.Adam(model.parameters(), lr=learning_rate)"
      ],
      "execution_count": null,
      "outputs": []
    },
    {
      "cell_type": "code",
      "metadata": {
        "id": "V8_tWGcWu9v2"
      },
      "source": [
        "def check_accuracy(scores, targets):\n",
        "  num_correct=0\n",
        "  num_samples=0\n",
        "  _, predictions= scores.max(1)\n",
        "  num_correct+= (predictions== targets).sum()\n",
        "  num_samples= predictions.size(0)\n",
        "\n",
        "  return num_correct/num_samples"
      ],
      "execution_count": null,
      "outputs": []
    },
    {
      "cell_type": "code",
      "metadata": {
        "id": "F81oPGN8duv-"
      },
      "source": [
        "def save_checkpoint(model, optimizer, file_name):\n",
        "\n",
        "  checkpoint= {'state_dict': model.state_dict(),\n",
        "             'optimizer_dict': optimizer.state_dict()}\n",
        "  torch.save(checkpoint,file_name)\n",
        "\n",
        "def load_checkpoint(model, optimizer, file_name):\n",
        "  check_pt= torch.load(file_name, map_location= torch.device(device))\n",
        "  model.load_state_dict(check_pt['state_dict'])\n",
        "  optimizer.load_state_dict(check_pt['optimizer_dict'])\n",
        "\n",
        "  return model, optimizer"
      ],
      "execution_count": null,
      "outputs": []
    },
    {
      "cell_type": "code",
      "metadata": {
        "colab": {
          "base_uri": "https://localhost:8080/"
        },
        "id": "dssN7JfNxSSe",
        "outputId": "38b385c0-d767-4904-821c-98ccac32be69"
      },
      "source": [
        "if load:\n",
        "  model, optimizer = load_checkpoint(model, optimizer, check_pt_file_load)\n",
        "  print(\"Loaded from\", check_pt_file_load)"
      ],
      "execution_count": null,
      "outputs": [
        {
          "output_type": "stream",
          "text": [
            "Loaded from drive/My Drive/Course Project Image Processing - Histopathology/db_dir/LiverNetwithDenseASPP_1e-3.pth.tar\n"
          ],
          "name": "stdout"
        }
      ]
    },
    {
      "cell_type": "code",
      "metadata": {
        "colab": {
          "base_uri": "https://localhost:8080/",
          "height": 36
        },
        "id": "-hdyO6T-KyPy",
        "outputId": "a9c9bf4b-ad4a-4fda-b7d0-62267be4ce7b"
      },
      "source": [
        "check_pt_file"
      ],
      "execution_count": null,
      "outputs": [
        {
          "output_type": "execute_result",
          "data": {
            "application/vnd.google.colaboratory.intrinsic+json": {
              "type": "string"
            },
            "text/plain": [
              "'drive/My Drive/Course Project Image Processing - Histopathology/db_dir/LiverNetwithDenseASPP_1e-4.pth.tar'"
            ]
          },
          "metadata": {
            "tags": []
          },
          "execution_count": 25
        }
      ]
    },
    {
      "cell_type": "code",
      "metadata": {
        "colab": {
          "base_uri": "https://localhost:8080/"
        },
        "id": "zPowtOToAtic",
        "outputId": "6ffaf1e9-0f45-4643-bbf1-0a82f544fbaf"
      },
      "source": [
        "### Training Loop\n",
        "train_per_epoch= len(train_loader)\n",
        "val_per_epoch= len(val_loader)\n",
        "min_loss= math.inf\n",
        "\n",
        "for epoch in range(num_epochs):\n",
        "  train_losses=[]\n",
        "### TRAINING\n",
        "  kbar_train= pkbar.Kbar(target= train_per_epoch, epoch=epoch, num_epochs=num_epochs)\n",
        "\n",
        "  train_loop= enumerate(train_loader)\n",
        "  val_loop= enumerate(val_loader)\n",
        "  for batch_idx, (data,targets) in train_loop:\n",
        "    model.train()\n",
        "\n",
        "    data= data.to(device=device)\n",
        "    targets= targets.to(device=device)\n",
        "\n",
        "    # FORWARD PROP\n",
        "    scores= model(data)\n",
        "    train_loss= Loss(scores, targets)\n",
        "    train_losses.append(train_loss.item())\n",
        "\n",
        "    # BACKWARD PROP\n",
        "    optimizer.zero_grad()\n",
        "    train_loss.backward()\n",
        "\n",
        "    optimizer.step()\n",
        "\n",
        "    train_acc= check_accuracy(scores,targets)\n",
        "    kbar_train.update(batch_idx, values=[(\"loss\", train_loss.item()), (\"accuracy\", train_acc.item())])\n",
        "  kbar_train.update(train_per_epoch, values=None)\n",
        "\n",
        "### VALIDATION\n",
        "  kbar_val= pkbar.Kbar(target= val_per_epoch, epoch=epoch, num_epochs=num_epochs)\n",
        "  for batch_idx, (data, targets) in val_loop:\n",
        "    val_losses=[]\n",
        "    model.eval()\n",
        "\n",
        "    data= data.to(device=device)\n",
        "    targets= targets.to(device=device)\n",
        "    scores= model(data)\n",
        "    val_loss= Loss(scores, targets)\n",
        "    val_losses.append(val_loss.item())\n",
        "    val_acc= check_accuracy(scores,targets)\n",
        "\n",
        "    kbar_val.update(batch_idx, values=[(\"val_loss\", val_loss.item()), (\"val_accuracy\", val_acc.item())])\n",
        "  \n",
        "  if np.mean(val_losses)<min_loss:\n",
        "    min_loss= val_loss.item()\n",
        "    print('\\nImproved validation loss: {:.4f}'.format(val_loss.item()))\n",
        "    print('Saving the model to {}\\n'.format(check_pt_file))\n",
        "    save_checkpoint(model, optimizer, check_pt_file)\n",
        "    \n",
        "  kbar_val.update(val_per_epoch, values=None)"
      ],
      "execution_count": null,
      "outputs": [
        {
          "output_type": "stream",
          "text": [
            "Epoch: 1/30\n",
            "662/662 [==============================] - 1931s 3s/step - loss: 0.3305 - accuracy: 0.8775\n",
            "Epoch: 1/30\n",
            "69/70 [============================>.] - ETA: 2s - val_loss: 0.5132 - val_accuracy: 0.8297\n",
            "Improved validation loss: 1.1325\n",
            "Saving the model to drive/My Drive/Course Project Image Processing - Histopathology/db_dir/LiverNetwithDenseASPP_1e-4.pth.tar\n",
            "\n",
            "70/70 [==============================] - 174s 2s/step - val_loss: 0.5132 - val_accuracy: 0.8297\n",
            "Epoch: 2/30\n",
            "662/662 [==============================] - 381s 576ms/step - loss: 0.3280 - accuracy: 0.8722\n",
            "Epoch: 2/30\n",
            "69/70 [============================>.] - ETA: 0s - val_loss: 0.2616 - val_accuracy: 0.8913\n",
            "Improved validation loss: 0.0402\n",
            "Saving the model to drive/My Drive/Course Project Image Processing - Histopathology/db_dir/LiverNetwithDenseASPP_1e-4.pth.tar\n",
            "\n",
            "70/70 [==============================] - 12s 177ms/step - val_loss: 0.2616 - val_accuracy: 0.8913\n",
            "Epoch: 3/30\n",
            "662/662 [==============================] - 376s 568ms/step - loss: 0.3257 - accuracy: 0.8638\n",
            "Epoch: 3/30\n",
            "70/70 [==============================] - 12s 176ms/step - val_loss: 0.3567 - val_accuracy: 0.8442\n",
            "Epoch: 4/30\n",
            "662/662 [==============================] - 375s 567ms/step - loss: 0.3192 - accuracy: 0.8729\n",
            "Epoch: 4/30\n",
            "70/70 [==============================] - 12s 176ms/step - val_loss: 0.1289 - val_accuracy: 0.9384\n",
            "Epoch: 5/30\n",
            "662/662 [==============================] - 379s 573ms/step - loss: 0.2931 - accuracy: 0.8883\n",
            "Epoch: 5/30\n",
            "70/70 [==============================] - 12s 177ms/step - val_loss: 0.2971 - val_accuracy: 0.8696\n",
            "Epoch: 6/30\n",
            "662/662 [==============================] - 381s 576ms/step - loss: 0.2943 - accuracy: 0.8869\n",
            "Epoch: 6/30\n",
            "70/70 [==============================] - 12s 176ms/step - val_loss: 0.1470 - val_accuracy: 0.9529\n",
            "Epoch: 7/30\n",
            "662/662 [==============================] - 376s 568ms/step - loss: 0.3033 - accuracy: 0.8839\n",
            "Epoch: 7/30\n",
            "70/70 [==============================] - 12s 178ms/step - val_loss: 0.1519 - val_accuracy: 0.9420\n",
            "Epoch: 8/30\n",
            "662/662 [==============================] - 376s 567ms/step - loss: 0.3322 - accuracy: 0.8807\n",
            "Epoch: 8/30\n",
            "70/70 [==============================] - 12s 177ms/step - val_loss: 0.1841 - val_accuracy: 0.9275\n",
            "Epoch: 9/30\n",
            "662/662 [==============================] - 378s 571ms/step - loss: 0.2854 - accuracy: 0.8878\n",
            "Epoch: 9/30\n",
            "70/70 [==============================] - 12s 176ms/step - val_loss: 0.2017 - val_accuracy: 0.8986\n",
            "Epoch: 10/30\n",
            "662/662 [==============================] - 379s 572ms/step - loss: 0.2780 - accuracy: 0.8964\n",
            "Epoch: 10/30\n",
            "70/70 [==============================] - 12s 174ms/step - val_loss: 0.1046 - val_accuracy: 0.9565\n",
            "Epoch: 11/30\n",
            "662/662 [==============================] - 374s 565ms/step - loss: 0.3308 - accuracy: 0.8775\n",
            "Epoch: 11/30\n",
            "70/70 [==============================] - 12s 177ms/step - val_loss: 0.1290 - val_accuracy: 0.9457\n",
            "Epoch: 12/30\n",
            "662/662 [==============================] - 375s 567ms/step - loss: 0.2592 - accuracy: 0.9072\n",
            "Epoch: 12/30\n",
            "70/70 [==============================] - 13s 179ms/step - val_loss: 0.1112 - val_accuracy: 0.9348\n",
            "Epoch: 13/30\n",
            "662/662 [==============================] - 380s 574ms/step - loss: 0.2504 - accuracy: 0.9032\n",
            "Epoch: 13/30\n",
            "70/70 [==============================] - 13s 180ms/step - val_loss: 0.1203 - val_accuracy: 0.9457\n",
            "Epoch: 14/30\n",
            "662/662 [==============================] - 382s 577ms/step - loss: 0.2799 - accuracy: 0.8917\n",
            "Epoch: 14/30\n",
            "70/70 [==============================] - 12s 177ms/step - val_loss: 0.1223 - val_accuracy: 0.9601\n",
            "Epoch: 15/30\n",
            "662/662 [==============================] - 377s 569ms/step - loss: 0.3024 - accuracy: 0.8945\n",
            "Epoch: 15/30\n",
            "69/70 [============================>.] - ETA: 0s - val_loss: 0.1373 - val_accuracy: 0.9348\n",
            "Improved validation loss: 0.0032\n",
            "Saving the model to drive/My Drive/Course Project Image Processing - Histopathology/db_dir/LiverNetwithDenseASPP_1e-4.pth.tar\n",
            "\n",
            "70/70 [==============================] - 13s 180ms/step - val_loss: 0.1373 - val_accuracy: 0.9348\n",
            "Epoch: 16/30\n",
            "662/662 [==============================] - 377s 570ms/step - loss: 0.2293 - accuracy: 0.9160\n",
            "Epoch: 16/30\n",
            "70/70 [==============================] - 13s 179ms/step - val_loss: 0.1937 - val_accuracy: 0.8986\n",
            "Epoch: 17/30\n",
            "662/662 [==============================] - 380s 575ms/step - loss: 0.2511 - accuracy: 0.9120\n",
            "Epoch: 17/30\n",
            "69/70 [============================>.] - ETA: 0s - val_loss: 0.0952 - val_accuracy: 0.9529\n",
            "Improved validation loss: 0.0010\n",
            "Saving the model to drive/My Drive/Course Project Image Processing - Histopathology/db_dir/LiverNetwithDenseASPP_1e-4.pth.tar\n",
            "\n",
            "70/70 [==============================] - 13s 181ms/step - val_loss: 0.0952 - val_accuracy: 0.9529\n",
            "Epoch: 18/30\n",
            "662/662 [==============================] - 381s 576ms/step - loss: 0.2609 - accuracy: 0.9081\n",
            "Epoch: 18/30\n",
            "70/70 [==============================] - 12s 176ms/step - val_loss: 0.1292 - val_accuracy: 0.9457\n",
            "Epoch: 19/30\n",
            "662/662 [==============================] - 376s 568ms/step - loss: 0.2883 - accuracy: 0.9005\n",
            "Epoch: 19/30\n",
            "70/70 [==============================] - 12s 176ms/step - val_loss: 0.3025 - val_accuracy: 0.8478\n",
            "Epoch: 20/30\n",
            "662/662 [==============================] - 376s 568ms/step - loss: 0.2779 - accuracy: 0.9100\n",
            "Epoch: 20/30\n",
            "70/70 [==============================] - 13s 179ms/step - val_loss: 0.1659 - val_accuracy: 0.9239\n",
            "Epoch: 21/30\n",
            "662/662 [==============================] - 380s 574ms/step - loss: 0.2660 - accuracy: 0.9134\n",
            "Epoch: 21/30\n",
            "70/70 [==============================] - 13s 179ms/step - val_loss: 0.1527 - val_accuracy: 0.9384\n",
            "Epoch: 22/30\n",
            "662/662 [==============================] - 381s 575ms/step - loss: 0.2672 - accuracy: 0.9089\n",
            "Epoch: 22/30\n",
            "70/70 [==============================] - 12s 176ms/step - val_loss: 0.1355 - val_accuracy: 0.9384\n",
            "Epoch: 23/30\n",
            "662/662 [==============================] - 376s 568ms/step - loss: 0.2011 - accuracy: 0.9289\n",
            "Epoch: 23/30\n",
            "70/70 [==============================] - 12s 177ms/step - val_loss: 0.1522 - val_accuracy: 0.9130\n",
            "Epoch: 24/30\n",
            "662/662 [==============================] - 375s 567ms/step - loss: 0.2472 - accuracy: 0.9160\n",
            "Epoch: 24/30\n",
            "70/70 [==============================] - 12s 177ms/step - val_loss: 0.3414 - val_accuracy: 0.8442\n",
            "Epoch: 25/30\n",
            "662/662 [==============================] - 379s 573ms/step - loss: 0.2184 - accuracy: 0.9217\n",
            "Epoch: 25/30\n",
            "70/70 [==============================] - 12s 178ms/step - val_loss: 0.1080 - val_accuracy: 0.9457\n",
            "Epoch: 26/30\n",
            "662/662 [==============================] - 381s 575ms/step - loss: 0.2381 - accuracy: 0.9300\n",
            "Epoch: 26/30\n",
            "70/70 [==============================] - 12s 177ms/step - val_loss: 0.2551 - val_accuracy: 0.9058\n",
            "Epoch: 27/30\n",
            "662/662 [==============================] - 376s 569ms/step - loss: 0.1988 - accuracy: 0.9285\n",
            "Epoch: 27/30\n",
            "70/70 [==============================] - 12s 178ms/step - val_loss: 0.4053 - val_accuracy: 0.7717\n",
            "Epoch: 28/30\n",
            "662/662 [==============================] - 376s 568ms/step - loss: 0.2343 - accuracy: 0.9232\n",
            "Epoch: 28/30\n",
            "70/70 [==============================] - 13s 179ms/step - val_loss: 0.2714 - val_accuracy: 0.8986\n",
            "Epoch: 29/30\n",
            "662/662 [==============================] - 380s 574ms/step - loss: 0.2283 - accuracy: 0.9212\n",
            "Epoch: 29/30\n",
            "70/70 [==============================] - 13s 180ms/step - val_loss: 0.1361 - val_accuracy: 0.9312\n",
            "Epoch: 30/30\n",
            "662/662 [==============================] - 380s 575ms/step - loss: 0.2414 - accuracy: 0.9201\n",
            "Epoch: 30/30\n",
            "70/70 [==============================] - 12s 175ms/step - val_loss: 0.2083 - val_accuracy: 0.9058\n"
          ],
          "name": "stdout"
        }
      ]
    },
    {
      "cell_type": "markdown",
      "metadata": {
        "id": "ruuzQKRqgzMZ"
      },
      "source": [
        "##Testing"
      ]
    },
    {
      "cell_type": "code",
      "metadata": {
        "colab": {
          "base_uri": "https://localhost:8080/",
          "height": 36
        },
        "id": "9_-o064tU4xw",
        "outputId": "3dd0bd70-3949-4e90-891f-90a71df9115d"
      },
      "source": [
        "check_pt_file"
      ],
      "execution_count": null,
      "outputs": [
        {
          "output_type": "execute_result",
          "data": {
            "application/vnd.google.colaboratory.intrinsic+json": {
              "type": "string"
            },
            "text/plain": [
              "'drive/My Drive/Course Project Image Processing - Histopathology/db_dir/LiverNetwithDenseASPP_1e-4.pth.tar'"
            ]
          },
          "metadata": {
            "tags": []
          },
          "execution_count": 27
        }
      ]
    },
    {
      "cell_type": "code",
      "metadata": {
        "id": "W8cRuzw9wVaK"
      },
      "source": [
        "liver_net_2, _= load_checkpoint(model, optimizer, check_pt_file)"
      ],
      "execution_count": null,
      "outputs": []
    },
    {
      "cell_type": "code",
      "metadata": {
        "id": "4OkIdvuBEpOT"
      },
      "source": [
        "def get_all_preds(model, loader):\n",
        "    all_preds = torch.tensor([], device=device)\n",
        "    all_labels= torch.tensor([], device=device)\n",
        "    for images,labels in loader:\n",
        "        images= images.to(device)\n",
        "        labels= labels.to(device)\n",
        "        scores = model(images)\n",
        "        _, preds= scores.max(1)\n",
        "        all_preds = torch.cat((all_preds, preds),dim=0)\n",
        "        all_labels = torch.cat((all_labels, labels),dim=0)\n",
        "    return all_preds, all_labels\n",
        "\n",
        "with torch.no_grad():\n",
        "    all_preds, all_labels = get_all_preds(liver_net_2.to(device), test_loader)"
      ],
      "execution_count": null,
      "outputs": []
    },
    {
      "cell_type": "code",
      "metadata": {
        "colab": {
          "base_uri": "https://localhost:8080/",
          "height": 297
        },
        "id": "MfNj9AK5E1vu",
        "outputId": "fb09c0ce-1970-4a0a-c7c9-ed94cc8a4ada"
      },
      "source": [
        "cmt= CMT(all_labels.cpu(), all_preds.cpu())\n",
        "prec, rec, f1, _= precision_recall_fscore_support(all_labels.cpu(), all_preds.cpu())\n",
        "acc= accuracy_score(all_labels.cpu(), all_preds.cpu())\n",
        "names= sorted(os.listdir(test_dir))\n",
        "disp= CMD(cmt, names)\n",
        "disp.plot(cmap='Blues')"
      ],
      "execution_count": null,
      "outputs": [
        {
          "output_type": "execute_result",
          "data": {
            "text/plain": [
              "<sklearn.metrics._plot.confusion_matrix.ConfusionMatrixDisplay at 0x7f2b64566b10>"
            ]
          },
          "metadata": {
            "tags": []
          },
          "execution_count": 30
        },
        {
          "output_type": "display_data",
          "data": {
            "image/png": "[encoded data removed]",
            "text/plain": [
              "<Figure size 432x288 with 2 Axes>"
            ]
          },
          "metadata": {
            "tags": [],
            "needs_background": "light"
          }
        }
      ]
    },
    {
      "cell_type": "code",
      "metadata": {
        "colab": {
          "base_uri": "https://localhost:8080/"
        },
        "id": "LWA7xiwwFVeD",
        "outputId": "12b7b4b8-bb74-43dc-f03d-35c58ca430dd"
      },
      "source": [
        "print(\"PRECISION:\", prec)\n",
        "print(\"RECALL:\", rec)\n",
        "print(\"F1 SCORE:\", f1)\n",
        "print(\"ACCURACY:\", acc)"
      ],
      "execution_count": null,
      "outputs": [
        {
          "output_type": "stream",
          "text": [
            "PRECISION: [1.         0.87058824 0.92       1.        ]\n",
            "RECALL: [1.     0.925  0.8625 1.    ]\n",
            "F1 SCORE: [1.         0.8969697  0.89032258 1.        ]\n",
            "ACCURACY: 0.9392857142857143\n"
          ],
          "name": "stdout"
        }
      ]
    },
    {
      "cell_type": "code",
      "metadata": {
        "colab": {
          "base_uri": "https://localhost:8080/"
        },
        "id": "eRTxl6aqKpfE",
        "outputId": "f710292e-edf4-42d1-8b4a-986d8a37e01c"
      },
      "source": [
        "print(\"PRECISION:\", np.mean(prec))\n",
        "print(\"RECALL:\", np.mean(rec))\n",
        "print(\"F1 SCORE:\", np.mean(f1))\n",
        "print(\"ACCURACY:\", np.mean(acc))"
      ],
      "execution_count": null,
      "outputs": [
        {
          "output_type": "stream",
          "text": [
            "PRECISION: 0.9476470588235294\n",
            "RECALL: 0.946875\n",
            "F1 SCORE: 0.9468230694037145\n",
            "ACCURACY: 0.9392857142857143\n"
          ],
          "name": "stdout"
        }
      ]
    }
  ]
}