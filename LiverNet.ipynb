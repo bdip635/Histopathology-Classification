{
  "nbformat": 4,
  "nbformat_minor": 0,
  "metadata": {
    "accelerator": "GPU",
    "colab": {
      "name": "LiverNet1.ipynb",
      "provenance": [],
      "collapsed_sections": [],
      "include_colab_link": true
    },
    "kernelspec": {
      "display_name": "Python 3",
      "name": "python3"
    }
  },
  "cells": [
    {
      "cell_type": "markdown",
      "metadata": {
        "id": "view-in-github",
        "colab_type": "text"
      },
      "source": [
        "<a href=\"https://colab.research.google.com/github/bdip635/Histopathology-Classification/blob/main/LiverNet.ipynb\" target=\"_parent\"><img src=\"https://colab.research.google.com/assets/colab-badge.svg\" alt=\"Open In Colab\"/></a>"
      ]
    },
    {
      "cell_type": "code",
      "metadata": {
        "id": "iOnzBnai_RVp"
      },
      "source": [
        "import torch\n",
        "import torch.nn as nn\n",
        "import torch.optim as optim\n",
        "import torch.nn.functional as F\n",
        "from torch.utils.data import DataLoader\n",
        "import torchvision.datasets as datasets\n",
        "import torchvision.transforms as transforms\n",
        "import torchvision\n",
        "from torchsummary import summary\n",
        "from tqdm import tqdm\n",
        "from torch.cuda.amp.grad_scaler import GradScaler\n",
        "\n",
        "import matplotlib.pyplot as plt\n",
        "import numpy as np\n",
        "import os\n",
        "import math\n",
        "import cv2\n",
        "from sklearn.metrics import ConfusionMatrixDisplay as CMD\n",
        "from sklearn.metrics import confusion_matrix as CMT"
      ],
      "execution_count": 1,
      "outputs": []
    },
    {
      "cell_type": "code",
      "metadata": {
        "colab": {
          "base_uri": "https://localhost:8080/"
        },
        "id": "jm62yiRGGzFS",
        "outputId": "599c9195-e16f-4318-e164-c52db2d6f647"
      },
      "source": [
        "!pip install pkbar\n",
        "import pkbar"
      ],
      "execution_count": 2,
      "outputs": [
        {
          "output_type": "stream",
          "text": [
            "Collecting pkbar\n",
            "  Downloading https://files.pythonhosted.org/packages/95/8f/28e0a21b27f836a8903315050db17dd68e55bf477b6fde52d1c68da3c8a6/pkbar-0.5-py3-none-any.whl\n",
            "Requirement already satisfied: numpy in /usr/local/lib/python3.7/dist-packages (from pkbar) (1.19.5)\n",
            "Installing collected packages: pkbar\n",
            "Successfully installed pkbar-0.5\n"
          ],
          "name": "stdout"
        }
      ]
    },
    {
      "cell_type": "code",
      "metadata": {
        "colab": {
          "base_uri": "https://localhost:8080/"
        },
        "id": "VF0JH8tHXNmv",
        "outputId": "cc59cb27-6aa2-47c9-be48-f85ec665054b"
      },
      "source": [
        "from google.colab import drive\n",
        "drive.mount('/content/drive')"
      ],
      "execution_count": 3,
      "outputs": [
        {
          "output_type": "stream",
          "text": [
            "Mounted at /content/drive\n"
          ],
          "name": "stdout"
        }
      ]
    },
    {
      "cell_type": "code",
      "metadata": {
        "id": "DVoBgr3YAP9v"
      },
      "source": [
        "batch_size = 4\n",
        "param = 128\n",
        "device = 'cuda'\n",
        "num_classes = 4\n",
        "input_shape = (3,224,224)\n",
        "scaler= GradScaler()"
      ],
      "execution_count": 4,
      "outputs": []
    },
    {
      "cell_type": "code",
      "metadata": {
        "id": "Ao3vjZ8nfaRy"
      },
      "source": [
        "main_path = 'drive/My Drive/Course Project Image Processing - Histopathology/KMC Dataset'\n",
        "work_path = 'drive/My Drive/Course Project Image Processing - Histopathology/db_dir'\n",
        "train_dir= os.path.join(main_path,'Training')\n",
        "test_dir= os.path.join(main_path,'Test')\n",
        "val_dir= os.path.join(main_path,'Validation')"
      ],
      "execution_count": 5,
      "outputs": []
    },
    {
      "cell_type": "code",
      "metadata": {
        "id": "TSDTwhDqOG8m"
      },
      "source": [
        "my_transforms = transforms.Compose([ #Compose makes it possible to have many transforms\n",
        "    transforms.ColorJitter(brightness=0.3, contrast=0.3), # Change brightness of image\n",
        "    transforms.RandomRotation(degrees=15), # Perhaps a random rotation from -45 to 45 degrees\n",
        "    transforms.RandomHorizontalFlip(p=0.5), # Flips the image horizontally with probability 0.5\n",
        "    transforms.RandomVerticalFlip(p=0.05), # Flips image vertically with probability 0.05\n",
        "    transforms.ToTensor() # Finally converts PIL image to tensor so we can train w. pytorch\n",
        "    ])"
      ],
      "execution_count": 6,
      "outputs": []
    },
    {
      "cell_type": "code",
      "metadata": {
        "id": "9x2vEw-Tf_vk"
      },
      "source": [
        "train_data= datasets.ImageFolder(train_dir, transform= my_transforms)\n",
        "test_data= datasets.ImageFolder(test_dir, transform= transforms.ToTensor())\n",
        "val_data= datasets.ImageFolder(val_dir, transform= transforms.ToTensor())"
      ],
      "execution_count": 7,
      "outputs": []
    },
    {
      "cell_type": "code",
      "metadata": {
        "id": "wEDaY7p9gsEz"
      },
      "source": [
        "train_loader= DataLoader(train_data, batch_size=batch_size, shuffle=True)\n",
        "test_loader= DataLoader(test_data, batch_size=batch_size, shuffle=True)\n",
        "val_loader= DataLoader(val_data, batch_size=batch_size, shuffle=True)"
      ],
      "execution_count": 8,
      "outputs": []
    },
    {
      "cell_type": "code",
      "metadata": {
        "id": "lCHEpxdooz1E",
        "colab": {
          "base_uri": "https://localhost:8080/"
        },
        "outputId": "f2fca4ac-fb7d-4c0a-8997-d3eada95e218"
      },
      "source": [
        "class_dict=train_data.class_to_idx\n",
        "print(class_dict)\n",
        "class_labels = class_dict.values()\n",
        "print(class_labels)"
      ],
      "execution_count": 9,
      "outputs": [
        {
          "output_type": "stream",
          "text": [
            "{'grade0': 0, 'grade1': 1, 'grade2': 2, 'grade3': 3}\n",
            "dict_values([0, 1, 2, 3])\n"
          ],
          "name": "stdout"
        }
      ]
    },
    {
      "cell_type": "markdown",
      "metadata": {
        "id": "hWJYfR16O-0l"
      },
      "source": [
        "### Plotting the images with classes\n",
        "\n"
      ]
    },
    {
      "cell_type": "code",
      "metadata": {
        "id": "9gIA-Bc-iKHT",
        "colab": {
          "base_uri": "https://localhost:8080/",
          "height": 183
        },
        "outputId": "6a1ac573-7041-4527-eaf0-5930b1cdee1f"
      },
      "source": [
        "iterator= iter(train_loader)\n",
        "it= next(iterator)\n",
        "images, labels= it\n",
        "\n",
        "plt.figure(figsize=(20,20))\n",
        "for r in range(batch_size):\n",
        "    plt.subplot(4,8,r+1)\n",
        "    f= plt.imshow(images[r].permute(2,1,0))\n",
        "    plt.title(labels[r].item())\n",
        "plt.show()"
      ],
      "execution_count": 10,
      "outputs": [
        {
          "output_type": "display_data",
          "data": {
            "image/png": "[encoded data removed]",
            "text/plain": [
              "<Figure size 1440x1440 with 4 Axes>"
            ]
          },
          "metadata": {
            "tags": [],
            "needs_background": "light"
          }
        }
      ]
    },
    {
      "cell_type": "markdown",
      "metadata": {
        "id": "JWKrNvqrjKPk"
      },
      "source": [
        "#### Comparision Between Separable Convolutions and Straight Forward Convolution"
      ]
    },
    {
      "cell_type": "code",
      "metadata": {
        "id": "5bGExKo2-9Dq"
      },
      "source": [
        "class Separable_Conv_Block(nn.Module):\n",
        "    def __init__(self, in_channels, out_channels, kernel_size, stride=1, padding=0, dilation=1):\n",
        "        super(Separable_Conv_Block, self).__init__()\n",
        "        #At groups= in_channels, each input channel is convolved with its own set of filters.\n",
        "        self.depth_wise_conv = nn.Conv2d(in_channels, in_channels, kernel_size, stride=stride, padding=padding, dilation=dilation, groups=in_channels)\n",
        "        self.point_wise_conv = nn.Conv2d(in_channels, out_channels, kernel_size=1)\n",
        "        self.bn = nn.BatchNorm2d(out_channels, eps=0.001, momentum=0.1)\n",
        "        self.relu = nn.ReLU(inplace=True)\n",
        "    def forward(self, x):\n",
        "        x = self.depth_wise_conv(x)\n",
        "        x = self.point_wise_conv(x)\n",
        "        x = self.bn(x)\n",
        "        x = self.relu(x)\n",
        "        return x"
      ],
      "execution_count": 11,
      "outputs": []
    },
    {
      "cell_type": "code",
      "metadata": {
        "id": "ukesJWKJQhPr"
      },
      "source": [
        "class Conv_Block(nn.Module):\n",
        "    def __init__(self, in_channels, out_channels, kernel_size, stride=1, padding=0, dilation=1):\n",
        "        super(Conv_Block, self).__init__()\n",
        "        self.conv = nn.Conv2d(in_channels, out_channels, kernel_size, stride=stride, padding=padding, dilation=dilation)\n",
        "        self.bn = nn.BatchNorm2d(out_channels, eps=0.001, momentum=0.1)\n",
        "        self.relu = nn.ReLU(inplace=True)\n",
        "    def forward(self, x):\n",
        "        x = self.conv(x)\n",
        "        x = self.bn(x)\n",
        "        x = self.relu(x)\n",
        "        return x"
      ],
      "execution_count": 12,
      "outputs": []
    },
    {
      "cell_type": "code",
      "metadata": {
        "id": "9rJAkirjQto6",
        "colab": {
          "base_uri": "https://localhost:8080/"
        },
        "outputId": "88b00065-9909-4c8e-cabb-0fa37b78d634"
      },
      "source": [
        "check_shape = (32,224,224)\n",
        "S = Separable_Conv_Block(32, 100, 3).to(device)\n",
        "C = Conv_Block(32, 100, 3).to(device)\n",
        "summary(S, input_size=check_shape, device=device)\n",
        "summary(C, input_size=check_shape, device=device)"
      ],
      "execution_count": 13,
      "outputs": [
        {
          "output_type": "stream",
          "text": [
            "----------------------------------------------------------------\n",
            "        Layer (type)               Output Shape         Param #\n",
            "================================================================\n",
            "            Conv2d-1         [-1, 32, 222, 222]             320\n",
            "            Conv2d-2        [-1, 100, 222, 222]           3,300\n",
            "       BatchNorm2d-3        [-1, 100, 222, 222]             200\n",
            "              ReLU-4        [-1, 100, 222, 222]               0\n",
            "================================================================\n",
            "Total params: 3,820\n",
            "Trainable params: 3,820\n",
            "Non-trainable params: 0\n",
            "----------------------------------------------------------------\n",
            "Input size (MB): 6.12\n",
            "Forward/backward pass size (MB): 124.83\n",
            "Params size (MB): 0.01\n",
            "Estimated Total Size (MB): 130.97\n",
            "----------------------------------------------------------------\n",
            "----------------------------------------------------------------\n",
            "        Layer (type)               Output Shape         Param #\n",
            "================================================================\n",
            "            Conv2d-1        [-1, 100, 222, 222]          28,900\n",
            "       BatchNorm2d-2        [-1, 100, 222, 222]             200\n",
            "              ReLU-3        [-1, 100, 222, 222]               0\n",
            "================================================================\n",
            "Total params: 29,100\n",
            "Trainable params: 29,100\n",
            "Non-trainable params: 0\n",
            "----------------------------------------------------------------\n",
            "Input size (MB): 6.12\n",
            "Forward/backward pass size (MB): 112.80\n",
            "Params size (MB): 0.11\n",
            "Estimated Total Size (MB): 119.04\n",
            "----------------------------------------------------------------\n"
          ],
          "name": "stdout"
        }
      ]
    },
    {
      "cell_type": "markdown",
      "metadata": {
        "id": "S0o_-Ja9_ULm"
      },
      "source": [
        "## Architecture"
      ]
    },
    {
      "cell_type": "code",
      "metadata": {
        "id": "mpvU1mPQEG6y"
      },
      "source": [
        "class Residual_Block(nn.Module):\n",
        "  def __init__(self, in_channels, out_channels, identity_downsample = None, stride=1):\n",
        "    super(Residual_Block,self).__init__()\n",
        "    self.expn = 1\n",
        "    self.conv1 = Separable_Conv_Block(in_channels=in_channels, out_channels=out_channels, kernel_size=1, stride=1, padding=0)\n",
        "    self.bn1 = nn.BatchNorm2d(num_features=out_channels)\n",
        "\n",
        "    self.conv2= Separable_Conv_Block(in_channels=out_channels, out_channels=out_channels, kernel_size=3, stride=stride, padding=1)\n",
        "    self.bn2= nn.BatchNorm2d(num_features=out_channels)\n",
        "\n",
        "    self.conv3= Separable_Conv_Block(in_channels= out_channels, out_channels=out_channels*self.expn, kernel_size=1, stride=1, padding=0)\n",
        "    self.bn3= nn.BatchNorm2d(num_features=out_channels*self.expn)\n",
        "    self.relu= nn.ReLU()\n",
        "    self.identity_downsample = identity_downsample\n",
        "\n",
        "  def forward(self,x):\n",
        "\n",
        "    identity = x.clone()\n",
        "    x = nn.Sequential(self.conv1,\n",
        "                     self.bn1,\n",
        "                     self.relu,\n",
        "                     self.conv2,\n",
        "                     self.bn2,\n",
        "                     self.relu,\n",
        "                     self.conv3,\n",
        "                     self.bn3)(x)\n",
        "    if self.identity_downsample is not None:\n",
        "      identity = self.identity_downsample(identity)\n",
        "    x += identity\n",
        "    x = self.relu(x)\n",
        "    return x"
      ],
      "execution_count": 14,
      "outputs": []
    },
    {
      "cell_type": "code",
      "metadata": {
        "id": "VVDpv1vTE14g"
      },
      "source": [
        "class Classifier(nn.Module):\n",
        "  def __init__(self, in_features, num_classes):\n",
        "    super(Classifier, self).__init__()\n",
        "\n",
        "    self.fc1=  nn.Sequential( nn.Linear(in_features, 256),\n",
        "                              nn.BatchNorm1d(256),\n",
        "                              nn.ReLU(),\n",
        "                              nn.Dropout(p=0.3)\n",
        "                            )\n",
        "    self.fc2= nn.Linear(256, num_classes)\n",
        "  \n",
        "  def forward(self, x):\n",
        "    x= x.reshape(x.shape[0],-1)\n",
        "    return self.fc2(self.fc1(x))"
      ],
      "execution_count": 15,
      "outputs": []
    },
    {
      "cell_type": "code",
      "metadata": {
        "id": "Tl0dYCVmbOZZ"
      },
      "source": [
        "class CBAM_Block(nn.Module):\n",
        "\n",
        "  def __init__(self, in_features):\n",
        "    super(CBAM_Block, self).__init__()\n",
        "\n",
        "    self.avgpool= nn.AdaptiveAvgPool2d((1,1))\n",
        "    self.maxpool= nn.AdaptiveMaxPool2d((1,1))\n",
        "    self.fc= nn.Linear(in_features, in_features)\n",
        "    self.conv= Separable_Conv_Block(in_channels=2*in_features, out_channels=1, kernel_size=3, padding=1)\n",
        "    self.act= nn.Sigmoid()\n",
        "  \n",
        "  def forward(self, x):\n",
        "\n",
        "    A1= self.avgpool(x)\n",
        "    A1= A1.reshape(A1.shape[0], -1)\n",
        "    A2= self.maxpool(x)\n",
        "    A2= A2.reshape(A2.shape[0], -1)\n",
        "    Ac= self.act(self.fc(A1))+self.fc(A2)\n",
        "    Ac= torch.unsqueeze(torch.unsqueeze(Ac, 2), 3)*x\n",
        "\n",
        "    concat= torch.cat((self.avgpool(Ac), self.maxpool(Ac)), dim=1)\n",
        "    As= self.act(self.conv(concat))*Ac\n",
        "    return As"
      ],
      "execution_count": 16,
      "outputs": []
    },
    {
      "cell_type": "code",
      "metadata": {
        "id": "ltwiWe_kXGQE"
      },
      "source": [
        "class ASPP_Block(nn.Module):\n",
        "  \n",
        "  def __init__(self, in_channels, out_channels):\n",
        "    super(ASPP_Block, self).__init__()\n",
        "\n",
        "    self.conv1x1  = Separable_Conv_Block(in_channels, out_channels, kernel_size=1, stride=1)\n",
        "    self.conv3x3_2= Separable_Conv_Block(in_channels, out_channels, kernel_size=3, stride=1, padding=2, dilation=2)\n",
        "    self.conv3x3_3= Separable_Conv_Block(in_channels, out_channels, kernel_size=3, stride=1, padding=3, dilation=3)\n",
        "    self.conv3x3_4= Separable_Conv_Block(in_channels, out_channels, kernel_size=3, stride=1, padding=4, dilation=4)\n",
        "    self.conv3x3_6= Separable_Conv_Block(in_channels, out_channels, kernel_size=3, stride=1, padding=6, dilation=6)\n",
        "    self.global_pool= nn.Sequential(nn.MaxPool2d(kernel_size=2, stride=2),\n",
        "                                    Separable_Conv_Block(in_channels, out_channels, kernel_size=1),\n",
        "                                    nn.UpsamplingBilinear2d(scale_factor=2))\n",
        "\n",
        "  def forward(self, x):\n",
        "    op1= self.conv1x1(x)\n",
        "    op2= self.conv3x3_2(x)\n",
        "    op3= self.conv3x3_3(x)\n",
        "    op4= self.conv3x3_4(x)\n",
        "    op5= self.conv3x3_6(x)\n",
        "    op6= self.global_pool(x)\n",
        "\n",
        "    return torch.cat((op1,op2,op3,op4,op5,op6), dim=1)"
      ],
      "execution_count": 17,
      "outputs": []
    },
    {
      "cell_type": "code",
      "metadata": {
        "id": "Zv1Z4fcJs-LV"
      },
      "source": [
        "class LiverNet(nn.Module):\n",
        "\n",
        "  def __init__(self, image_shape, num_classes):\n",
        "    super(LiverNet, self).__init__()\n",
        "\n",
        "    self.aspp_out_channels= param\n",
        "    self.conv_block_1= Separable_Conv_Block(3, 32, kernel_size=3, padding=1)\n",
        "    self.conv_block_2= Separable_Conv_Block(32, 32, kernel_size=3, padding=1)\n",
        "    self.pool= nn.MaxPool2d(kernel_size=2, stride=2)\n",
        "    self.global_avg_pool= nn.AdaptiveAvgPool2d((1,1))\n",
        "    self.conv_block_3= Separable_Conv_Block(32, 64, kernel_size=3, padding=1)\n",
        "    self.cbam= CBAM_Block(in_features=64)\n",
        "    self.res_block= Residual_Block(in_channels=64,\n",
        "                                     out_channels=64,\n",
        "                                     identity_downsample = Separable_Conv_Block(64, 64, kernel_size=1))\n",
        "    self.conv_block_4= Separable_Conv_Block(64, 64, kernel_size=3, padding=1)\n",
        "\n",
        "    self.aspp_1= ASPP_Block(in_channels=32, out_channels=self.aspp_out_channels)\n",
        "    self.aspp_2= ASPP_Block(in_channels=64, out_channels=self.aspp_out_channels)\n",
        "    self.upsample_1= nn.UpsamplingBilinear2d(scale_factor=2)\n",
        "    self.upsample_2= nn.UpsamplingBilinear2d(scale_factor=4)\n",
        "    self.upsample_3= nn.UpsamplingBilinear2d(scale_factor=8)\n",
        "    self.classifier= Classifier(in_features=self.aspp_out_channels*18, num_classes=num_classes)\n",
        "    \n",
        "  def forward(self, x):\n",
        "    x1= self.conv_block_1(x)\n",
        "    x1= self.conv_block_2(x1)\n",
        "    x1 = self.pool(x1)\n",
        "\n",
        "    x2= self.conv_block_3(x1)\n",
        "    x2= self.cbam(x2)\n",
        "    x2= self.res_block(x2)\n",
        "    x2= self.pool(x2)\n",
        "\n",
        "    x3= self.conv_block_4(x2)\n",
        "    x3= self.cbam(x3)\n",
        "    x3= self.res_block(x3)\n",
        "    x3= self.pool(x3)\n",
        "\n",
        "    a1= self.aspp_1(x1)\n",
        "    a1= self.upsample_1(a1)\n",
        "\n",
        "    a2= self.aspp_2(x2)\n",
        "    a2= self.upsample_2(a2)\n",
        "\n",
        "    a3= self.aspp_2(x3)\n",
        "    a3= self.upsample_3(a3)\n",
        "\n",
        "    out= torch.cat((a1,a2,a3), dim=1)\n",
        "    out= self.global_avg_pool(out)\n",
        "    out= self.classifier(out)\n",
        "\n",
        "    return out"
      ],
      "execution_count": 18,
      "outputs": []
    },
    {
      "cell_type": "code",
      "metadata": {
        "id": "BKGqmTzuoY36",
        "colab": {
          "base_uri": "https://localhost:8080/"
        },
        "outputId": "a8eb25a2-b37d-45ae-9bb6-3fdcf8eba0d0"
      },
      "source": [
        "model= LiverNet(input_shape, num_classes).to(device)\n",
        "summary(model, input_size= input_shape, batch_size=batch_size, device=device)"
      ],
      "execution_count": 19,
      "outputs": [
        {
          "output_type": "stream",
          "text": [
            "----------------------------------------------------------------\n",
            "        Layer (type)               Output Shape         Param #\n",
            "================================================================\n",
            "            Conv2d-1           [4, 3, 224, 224]              30\n",
            "            Conv2d-2          [4, 32, 224, 224]             128\n",
            "       BatchNorm2d-3          [4, 32, 224, 224]              64\n",
            "              ReLU-4          [4, 32, 224, 224]               0\n",
            "Separable_Conv_Block-5          [4, 32, 224, 224]               0\n",
            "            Conv2d-6          [4, 32, 224, 224]             320\n",
            "            Conv2d-7          [4, 32, 224, 224]           1,056\n",
            "       BatchNorm2d-8          [4, 32, 224, 224]              64\n",
            "              ReLU-9          [4, 32, 224, 224]               0\n",
            "Separable_Conv_Block-10          [4, 32, 224, 224]               0\n",
            "        MaxPool2d-11          [4, 32, 112, 112]               0\n",
            "           Conv2d-12          [4, 32, 112, 112]             320\n",
            "           Conv2d-13          [4, 64, 112, 112]           2,112\n",
            "      BatchNorm2d-14          [4, 64, 112, 112]             128\n",
            "             ReLU-15          [4, 64, 112, 112]               0\n",
            "Separable_Conv_Block-16          [4, 64, 112, 112]               0\n",
            "AdaptiveAvgPool2d-17              [4, 64, 1, 1]               0\n",
            "AdaptiveMaxPool2d-18              [4, 64, 1, 1]               0\n",
            "           Linear-19                    [4, 64]           4,160\n",
            "          Sigmoid-20                    [4, 64]               0\n",
            "           Linear-21                    [4, 64]           4,160\n",
            "AdaptiveAvgPool2d-22              [4, 64, 1, 1]               0\n",
            "AdaptiveMaxPool2d-23              [4, 64, 1, 1]               0\n",
            "           Conv2d-24             [4, 128, 1, 1]           1,280\n",
            "           Conv2d-25               [4, 1, 1, 1]             129\n",
            "      BatchNorm2d-26               [4, 1, 1, 1]               2\n",
            "             ReLU-27               [4, 1, 1, 1]               0\n",
            "Separable_Conv_Block-28               [4, 1, 1, 1]               0\n",
            "          Sigmoid-29               [4, 1, 1, 1]               0\n",
            "       CBAM_Block-30          [4, 64, 112, 112]               0\n",
            "           Conv2d-31          [4, 64, 112, 112]             128\n",
            "           Conv2d-32          [4, 64, 112, 112]           4,160\n",
            "      BatchNorm2d-33          [4, 64, 112, 112]             128\n",
            "             ReLU-34          [4, 64, 112, 112]               0\n",
            "Separable_Conv_Block-35          [4, 64, 112, 112]               0\n",
            "      BatchNorm2d-36          [4, 64, 112, 112]             128\n",
            "             ReLU-37          [4, 64, 112, 112]               0\n",
            "           Conv2d-38          [4, 64, 112, 112]             640\n",
            "           Conv2d-39          [4, 64, 112, 112]           4,160\n",
            "      BatchNorm2d-40          [4, 64, 112, 112]             128\n",
            "             ReLU-41          [4, 64, 112, 112]               0\n",
            "Separable_Conv_Block-42          [4, 64, 112, 112]               0\n",
            "      BatchNorm2d-43          [4, 64, 112, 112]             128\n",
            "             ReLU-44          [4, 64, 112, 112]               0\n",
            "           Conv2d-45          [4, 64, 112, 112]             128\n",
            "           Conv2d-46          [4, 64, 112, 112]           4,160\n",
            "      BatchNorm2d-47          [4, 64, 112, 112]             128\n",
            "             ReLU-48          [4, 64, 112, 112]               0\n",
            "Separable_Conv_Block-49          [4, 64, 112, 112]               0\n",
            "      BatchNorm2d-50          [4, 64, 112, 112]             128\n",
            "           Conv2d-51          [4, 64, 112, 112]             128\n",
            "           Conv2d-52          [4, 64, 112, 112]           4,160\n",
            "      BatchNorm2d-53          [4, 64, 112, 112]             128\n",
            "             ReLU-54          [4, 64, 112, 112]               0\n",
            "Separable_Conv_Block-55          [4, 64, 112, 112]               0\n",
            "             ReLU-56          [4, 64, 112, 112]               0\n",
            "   Residual_Block-57          [4, 64, 112, 112]               0\n",
            "        MaxPool2d-58            [4, 64, 56, 56]               0\n",
            "           Conv2d-59            [4, 64, 56, 56]             640\n",
            "           Conv2d-60            [4, 64, 56, 56]           4,160\n",
            "      BatchNorm2d-61            [4, 64, 56, 56]             128\n",
            "             ReLU-62            [4, 64, 56, 56]               0\n",
            "Separable_Conv_Block-63            [4, 64, 56, 56]               0\n",
            "AdaptiveAvgPool2d-64              [4, 64, 1, 1]               0\n",
            "AdaptiveMaxPool2d-65              [4, 64, 1, 1]               0\n",
            "           Linear-66                    [4, 64]           4,160\n",
            "          Sigmoid-67                    [4, 64]               0\n",
            "           Linear-68                    [4, 64]           4,160\n",
            "AdaptiveAvgPool2d-69              [4, 64, 1, 1]               0\n",
            "AdaptiveMaxPool2d-70              [4, 64, 1, 1]               0\n",
            "           Conv2d-71             [4, 128, 1, 1]           1,280\n",
            "           Conv2d-72               [4, 1, 1, 1]             129\n",
            "      BatchNorm2d-73               [4, 1, 1, 1]               2\n",
            "             ReLU-74               [4, 1, 1, 1]               0\n",
            "Separable_Conv_Block-75               [4, 1, 1, 1]               0\n",
            "          Sigmoid-76               [4, 1, 1, 1]               0\n",
            "       CBAM_Block-77            [4, 64, 56, 56]               0\n",
            "           Conv2d-78            [4, 64, 56, 56]             128\n",
            "           Conv2d-79            [4, 64, 56, 56]           4,160\n",
            "      BatchNorm2d-80            [4, 64, 56, 56]             128\n",
            "             ReLU-81            [4, 64, 56, 56]               0\n",
            "Separable_Conv_Block-82            [4, 64, 56, 56]               0\n",
            "      BatchNorm2d-83            [4, 64, 56, 56]             128\n",
            "             ReLU-84            [4, 64, 56, 56]               0\n",
            "           Conv2d-85            [4, 64, 56, 56]             640\n",
            "           Conv2d-86            [4, 64, 56, 56]           4,160\n",
            "      BatchNorm2d-87            [4, 64, 56, 56]             128\n",
            "             ReLU-88            [4, 64, 56, 56]               0\n",
            "Separable_Conv_Block-89            [4, 64, 56, 56]               0\n",
            "      BatchNorm2d-90            [4, 64, 56, 56]             128\n",
            "             ReLU-91            [4, 64, 56, 56]               0\n",
            "           Conv2d-92            [4, 64, 56, 56]             128\n",
            "           Conv2d-93            [4, 64, 56, 56]           4,160\n",
            "      BatchNorm2d-94            [4, 64, 56, 56]             128\n",
            "             ReLU-95            [4, 64, 56, 56]               0\n",
            "Separable_Conv_Block-96            [4, 64, 56, 56]               0\n",
            "      BatchNorm2d-97            [4, 64, 56, 56]             128\n",
            "           Conv2d-98            [4, 64, 56, 56]             128\n",
            "           Conv2d-99            [4, 64, 56, 56]           4,160\n",
            "     BatchNorm2d-100            [4, 64, 56, 56]             128\n",
            "            ReLU-101            [4, 64, 56, 56]               0\n",
            "Separable_Conv_Block-102            [4, 64, 56, 56]               0\n",
            "            ReLU-103            [4, 64, 56, 56]               0\n",
            "  Residual_Block-104            [4, 64, 56, 56]               0\n",
            "       MaxPool2d-105            [4, 64, 28, 28]               0\n",
            "          Conv2d-106          [4, 32, 112, 112]              64\n",
            "          Conv2d-107         [4, 128, 112, 112]           4,224\n",
            "     BatchNorm2d-108         [4, 128, 112, 112]             256\n",
            "            ReLU-109         [4, 128, 112, 112]               0\n",
            "Separable_Conv_Block-110         [4, 128, 112, 112]               0\n",
            "          Conv2d-111          [4, 32, 112, 112]             320\n",
            "          Conv2d-112         [4, 128, 112, 112]           4,224\n",
            "     BatchNorm2d-113         [4, 128, 112, 112]             256\n",
            "            ReLU-114         [4, 128, 112, 112]               0\n",
            "Separable_Conv_Block-115         [4, 128, 112, 112]               0\n",
            "          Conv2d-116          [4, 32, 112, 112]             320\n",
            "          Conv2d-117         [4, 128, 112, 112]           4,224\n",
            "     BatchNorm2d-118         [4, 128, 112, 112]             256\n",
            "            ReLU-119         [4, 128, 112, 112]               0\n",
            "Separable_Conv_Block-120         [4, 128, 112, 112]               0\n",
            "          Conv2d-121          [4, 32, 112, 112]             320\n",
            "          Conv2d-122         [4, 128, 112, 112]           4,224\n",
            "     BatchNorm2d-123         [4, 128, 112, 112]             256\n",
            "            ReLU-124         [4, 128, 112, 112]               0\n",
            "Separable_Conv_Block-125         [4, 128, 112, 112]               0\n",
            "          Conv2d-126          [4, 32, 112, 112]             320\n",
            "          Conv2d-127         [4, 128, 112, 112]           4,224\n",
            "     BatchNorm2d-128         [4, 128, 112, 112]             256\n",
            "            ReLU-129         [4, 128, 112, 112]               0\n",
            "Separable_Conv_Block-130         [4, 128, 112, 112]               0\n",
            "       MaxPool2d-131            [4, 32, 56, 56]               0\n",
            "          Conv2d-132            [4, 32, 56, 56]              64\n",
            "          Conv2d-133           [4, 128, 56, 56]           4,224\n",
            "     BatchNorm2d-134           [4, 128, 56, 56]             256\n",
            "            ReLU-135           [4, 128, 56, 56]               0\n",
            "Separable_Conv_Block-136           [4, 128, 56, 56]               0\n",
            "UpsamplingBilinear2d-137         [4, 128, 112, 112]               0\n",
            "      ASPP_Block-138         [4, 768, 112, 112]               0\n",
            "UpsamplingBilinear2d-139         [4, 768, 224, 224]               0\n",
            "          Conv2d-140            [4, 64, 56, 56]             128\n",
            "          Conv2d-141           [4, 128, 56, 56]           8,320\n",
            "     BatchNorm2d-142           [4, 128, 56, 56]             256\n",
            "            ReLU-143           [4, 128, 56, 56]               0\n",
            "Separable_Conv_Block-144           [4, 128, 56, 56]               0\n",
            "          Conv2d-145            [4, 64, 56, 56]             640\n",
            "          Conv2d-146           [4, 128, 56, 56]           8,320\n",
            "     BatchNorm2d-147           [4, 128, 56, 56]             256\n",
            "            ReLU-148           [4, 128, 56, 56]               0\n",
            "Separable_Conv_Block-149           [4, 128, 56, 56]               0\n",
            "          Conv2d-150            [4, 64, 56, 56]             640\n",
            "          Conv2d-151           [4, 128, 56, 56]           8,320\n",
            "     BatchNorm2d-152           [4, 128, 56, 56]             256\n",
            "            ReLU-153           [4, 128, 56, 56]               0\n",
            "Separable_Conv_Block-154           [4, 128, 56, 56]               0\n",
            "          Conv2d-155            [4, 64, 56, 56]             640\n",
            "          Conv2d-156           [4, 128, 56, 56]           8,320\n",
            "     BatchNorm2d-157           [4, 128, 56, 56]             256\n",
            "            ReLU-158           [4, 128, 56, 56]               0\n",
            "Separable_Conv_Block-159           [4, 128, 56, 56]               0\n",
            "          Conv2d-160            [4, 64, 56, 56]             640\n",
            "          Conv2d-161           [4, 128, 56, 56]           8,320\n",
            "     BatchNorm2d-162           [4, 128, 56, 56]             256\n",
            "            ReLU-163           [4, 128, 56, 56]               0\n",
            "Separable_Conv_Block-164           [4, 128, 56, 56]               0\n",
            "       MaxPool2d-165            [4, 64, 28, 28]               0\n",
            "          Conv2d-166            [4, 64, 28, 28]             128\n",
            "          Conv2d-167           [4, 128, 28, 28]           8,320\n",
            "     BatchNorm2d-168           [4, 128, 28, 28]             256\n",
            "            ReLU-169           [4, 128, 28, 28]               0\n",
            "Separable_Conv_Block-170           [4, 128, 28, 28]               0\n",
            "UpsamplingBilinear2d-171           [4, 128, 56, 56]               0\n",
            "      ASPP_Block-172           [4, 768, 56, 56]               0\n",
            "UpsamplingBilinear2d-173         [4, 768, 224, 224]               0\n",
            "          Conv2d-174            [4, 64, 28, 28]             128\n",
            "          Conv2d-175           [4, 128, 28, 28]           8,320\n",
            "     BatchNorm2d-176           [4, 128, 28, 28]             256\n",
            "            ReLU-177           [4, 128, 28, 28]               0\n",
            "Separable_Conv_Block-178           [4, 128, 28, 28]               0\n",
            "          Conv2d-179            [4, 64, 28, 28]             640\n",
            "          Conv2d-180           [4, 128, 28, 28]           8,320\n",
            "     BatchNorm2d-181           [4, 128, 28, 28]             256\n",
            "            ReLU-182           [4, 128, 28, 28]               0\n",
            "Separable_Conv_Block-183           [4, 128, 28, 28]               0\n",
            "          Conv2d-184            [4, 64, 28, 28]             640\n",
            "          Conv2d-185           [4, 128, 28, 28]           8,320\n",
            "     BatchNorm2d-186           [4, 128, 28, 28]             256\n",
            "            ReLU-187           [4, 128, 28, 28]               0\n",
            "Separable_Conv_Block-188           [4, 128, 28, 28]               0\n",
            "          Conv2d-189            [4, 64, 28, 28]             640\n",
            "          Conv2d-190           [4, 128, 28, 28]           8,320\n",
            "     BatchNorm2d-191           [4, 128, 28, 28]             256\n",
            "            ReLU-192           [4, 128, 28, 28]               0\n",
            "Separable_Conv_Block-193           [4, 128, 28, 28]               0\n",
            "          Conv2d-194            [4, 64, 28, 28]             640\n",
            "          Conv2d-195           [4, 128, 28, 28]           8,320\n",
            "     BatchNorm2d-196           [4, 128, 28, 28]             256\n",
            "            ReLU-197           [4, 128, 28, 28]               0\n",
            "Separable_Conv_Block-198           [4, 128, 28, 28]               0\n",
            "       MaxPool2d-199            [4, 64, 14, 14]               0\n",
            "          Conv2d-200            [4, 64, 14, 14]             128\n",
            "          Conv2d-201           [4, 128, 14, 14]           8,320\n",
            "     BatchNorm2d-202           [4, 128, 14, 14]             256\n",
            "            ReLU-203           [4, 128, 14, 14]               0\n",
            "Separable_Conv_Block-204           [4, 128, 14, 14]               0\n",
            "UpsamplingBilinear2d-205           [4, 128, 28, 28]               0\n",
            "      ASPP_Block-206           [4, 768, 28, 28]               0\n",
            "UpsamplingBilinear2d-207         [4, 768, 224, 224]               0\n",
            "AdaptiveAvgPool2d-208            [4, 2304, 1, 1]               0\n",
            "          Linear-209                   [4, 256]         590,080\n",
            "     BatchNorm1d-210                   [4, 256]             512\n",
            "            ReLU-211                   [4, 256]               0\n",
            "         Dropout-212                   [4, 256]               0\n",
            "          Linear-213                     [4, 4]           1,028\n",
            "      Classifier-214                     [4, 4]               0\n",
            "================================================================\n",
            "Total params: 794,184\n",
            "Trainable params: 794,184\n",
            "Non-trainable params: 0\n",
            "----------------------------------------------------------------\n",
            "Input size (MB): 2.30\n",
            "Forward/backward pass size (MB): 6902.25\n",
            "Params size (MB): 3.03\n",
            "Estimated Total Size (MB): 6907.57\n",
            "----------------------------------------------------------------\n"
          ],
          "name": "stdout"
        }
      ]
    },
    {
      "cell_type": "markdown",
      "metadata": {
        "id": "zZ8RiWZT_eSV"
      },
      "source": [
        "##Training"
      ]
    },
    {
      "cell_type": "code",
      "metadata": {
        "id": "BS186IwZ-ySo"
      },
      "source": [
        "check_pt_file_load = os.path.join(work_path, 'LiverNet1_22.pth.tar')\n",
        "check_pt_file = os.path.join(work_path, 'LiverNet1_3.pth.tar')"
      ],
      "execution_count": 20,
      "outputs": []
    },
    {
      "cell_type": "code",
      "metadata": {
        "id": "VRISiTQsX6OP"
      },
      "source": [
        "learning_rate=1e-6\n",
        "num_epochs= 50"
      ],
      "execution_count": 21,
      "outputs": []
    },
    {
      "cell_type": "code",
      "metadata": {
        "id": "64iVEIrkuO_l"
      },
      "source": [
        "Loss= nn.CrossEntropyLoss()\n",
        "optimizer= optim.Adam(model.parameters(), lr=learning_rate)"
      ],
      "execution_count": 22,
      "outputs": []
    },
    {
      "cell_type": "code",
      "metadata": {
        "id": "V8_tWGcWu9v2"
      },
      "source": [
        "def check_accuracy(scores, targets):\n",
        "  num_correct=0\n",
        "  num_samples=0\n",
        "  _, predictions= scores.max(1)\n",
        "  num_correct+= (predictions== targets).sum()\n",
        "  num_samples= predictions.size(0)\n",
        "\n",
        "  return num_correct/num_samples"
      ],
      "execution_count": 23,
      "outputs": []
    },
    {
      "cell_type": "code",
      "metadata": {
        "id": "F81oPGN8duv-"
      },
      "source": [
        "def save_checkpoint(model, optimizer, file_name):\n",
        "\n",
        "  checkpoint= {'state_dict': model.state_dict(),\n",
        "             'optimizer_dict': optimizer.state_dict()}\n",
        "  torch.save(checkpoint,file_name)\n",
        "\n",
        "def load_checkpoint(model, optimizer, file_name):\n",
        "  check_pt= torch.load(file_name, map_location= torch.device(device))\n",
        "  model.load_state_dict(check_pt['state_dict'])\n",
        "  optimizer.load_state_dict(check_pt['optimizer_dict'])\n",
        "\n",
        "  return model, optimizer"
      ],
      "execution_count": 24,
      "outputs": []
    },
    {
      "cell_type": "code",
      "metadata": {
        "id": "8WF-Dz2JfpkW"
      },
      "source": [
        "model, optimizer = load_checkpoint(model, optimizer, check_pt_file_load)"
      ],
      "execution_count": 25,
      "outputs": []
    },
    {
      "cell_type": "code",
      "metadata": {
        "id": "zPowtOToAtic",
        "colab": {
          "base_uri": "https://localhost:8080/"
        },
        "outputId": "b9296b26-51da-443a-ca6b-76fe1bbf3c9b"
      },
      "source": [
        "### Training Loop\n",
        "train_per_epoch= len(train_loader)\n",
        "val_per_epoch= len(val_loader)\n",
        "min_loss= math.inf\n",
        "\n",
        "for epoch in range(num_epochs):\n",
        "  train_losses=[]\n",
        "### TRAINING\n",
        "  kbar_train= pkbar.Kbar(target= train_per_epoch, epoch=epoch, num_epochs=num_epochs)\n",
        "\n",
        "  train_loop= enumerate(train_loader)\n",
        "  val_loop= enumerate(val_loader)\n",
        "  for batch_idx, (data,targets) in train_loop:\n",
        "    model.train()\n",
        "\n",
        "    data= data.to(device=device)\n",
        "    targets= targets.to(device=device)\n",
        "\n",
        "    # FORWARD PROP\n",
        "    scores= model(data)\n",
        "    train_loss= Loss(scores, targets)\n",
        "    train_losses.append(train_loss.item())\n",
        "\n",
        "    # BACKWARD PROP\n",
        "    optimizer.zero_grad()\n",
        "    train_loss.backward()\n",
        "\n",
        "    optimizer.step()\n",
        "\n",
        "    train_acc= check_accuracy(scores,targets)\n",
        "    kbar_train.update(batch_idx, values=[(\"loss\", train_loss.item()), (\"accuracy\", train_acc.item())])\n",
        "  kbar_train.update(train_per_epoch, values=None)\n",
        "\n",
        "### VALIDATION\n",
        "  kbar_val= pkbar.Kbar(target= val_per_epoch, epoch=epoch, num_epochs=num_epochs)\n",
        "  for batch_idx, (data, targets) in val_loop:\n",
        "    val_losses=[]\n",
        "    model.eval()\n",
        "\n",
        "    data= data.to(device=device)\n",
        "    targets= targets.to(device=device)\n",
        "    scores= model(data)\n",
        "    val_loss= Loss(scores, targets)\n",
        "    val_losses.append(val_loss.item())\n",
        "    val_acc= check_accuracy(scores,targets)\n",
        "\n",
        "    kbar_val.update(batch_idx, values=[(\"val_loss\", val_loss.item()), (\"val_accuracy\", val_acc.item())])\n",
        "  \n",
        "  if np.mean(val_losses)<min_loss:\n",
        "    min_loss= val_loss.item()\n",
        "    print('\\nImproved validation loss: {:.4f}'.format(val_loss.item()))\n",
        "    print('Saving the model to {}\\n'.format(check_pt_file))\n",
        "    save_checkpoint(model, optimizer, check_pt_file)\n",
        "    \n",
        "  kbar_val.update(val_per_epoch, values=None)"
      ],
      "execution_count": 26,
      "outputs": [
        {
          "output_type": "stream",
          "text": [
            "Epoch: 1/50\n",
            "662/662 [==============================] - 755s 1s/step - loss: 0.2969 - accuracy: 0.8850\n",
            "Epoch: 1/50\n",
            "69/70 [============================>.] - ETA: 0s - val_loss: 0.4364 - val_accuracy: 0.8623\n",
            "Improved validation loss: 0.0246\n",
            "Saving the model to drive/My Drive/Course Project Image Processing - Histopathology/db_dir/LiverNet1_3.pth.tar\n",
            "\n",
            "70/70 [==============================] - 66s 950ms/step - val_loss: 0.4364 - val_accuracy: 0.8623\n",
            "Epoch: 2/50\n",
            "662/662 [==============================] - 164s 248ms/step - loss: 0.3078 - accuracy: 0.8780\n",
            "Epoch: 2/50\n",
            "70/70 [==============================] - 6s 89ms/step - val_loss: 0.4937 - val_accuracy: 0.8116\n",
            "Epoch: 3/50\n",
            "662/662 [==============================] - 164s 248ms/step - loss: 0.3295 - accuracy: 0.8741\n",
            "Epoch: 3/50\n",
            "70/70 [==============================] - 6s 89ms/step - val_loss: 0.5138 - val_accuracy: 0.8478\n",
            "Epoch: 4/50\n",
            "662/662 [==============================] - 164s 248ms/step - loss: 0.2931 - accuracy: 0.8767\n",
            "Epoch: 4/50\n",
            "70/70 [==============================] - 6s 90ms/step - val_loss: 0.5225 - val_accuracy: 0.8732\n",
            "Epoch: 5/50\n",
            "662/662 [==============================] - 164s 247ms/step - loss: 0.2782 - accuracy: 0.8942\n",
            "Epoch: 5/50\n",
            "70/70 [==============================] - 6s 89ms/step - val_loss: 0.5300 - val_accuracy: 0.8116\n",
            "Epoch: 6/50\n",
            "662/662 [==============================] - 164s 247ms/step - loss: 0.2901 - accuracy: 0.8873\n",
            "Epoch: 6/50\n",
            "70/70 [==============================] - 6s 89ms/step - val_loss: 0.5569 - val_accuracy: 0.8551\n",
            "Epoch: 7/50\n",
            "662/662 [==============================] - 164s 247ms/step - loss: 0.3027 - accuracy: 0.8849\n",
            "Epoch: 7/50\n",
            "70/70 [==============================] - 6s 89ms/step - val_loss: 0.7188 - val_accuracy: 0.7500\n",
            "Epoch: 8/50\n",
            "662/662 [==============================] - 164s 247ms/step - loss: 0.2612 - accuracy: 0.8903\n",
            "Epoch: 8/50\n",
            "70/70 [==============================] - 6s 89ms/step - val_loss: 0.7386 - val_accuracy: 0.7319\n",
            "Epoch: 9/50\n",
            "662/662 [==============================] - 164s 247ms/step - loss: 0.3320 - accuracy: 0.8824\n",
            "Epoch: 9/50\n",
            "70/70 [==============================] - 6s 88ms/step - val_loss: 0.5544 - val_accuracy: 0.8406\n",
            "Epoch: 10/50\n",
            "662/662 [==============================] - 164s 248ms/step - loss: 0.2927 - accuracy: 0.8846\n",
            "Epoch: 10/50\n",
            "70/70 [==============================] - 6s 89ms/step - val_loss: 0.5917 - val_accuracy: 0.8623\n",
            "Epoch: 11/50\n",
            "662/662 [==============================] - 164s 248ms/step - loss: 0.3167 - accuracy: 0.8800\n",
            "Epoch: 11/50\n",
            "70/70 [==============================] - 6s 88ms/step - val_loss: 0.5250 - val_accuracy: 0.8370\n",
            "Epoch: 12/50\n",
            "662/662 [==============================] - 164s 247ms/step - loss: 0.2882 - accuracy: 0.8909\n",
            "Epoch: 12/50\n",
            "70/70 [==============================] - 6s 89ms/step - val_loss: 0.4028 - val_accuracy: 0.8877\n",
            "Epoch: 13/50\n",
            "662/662 [==============================] - 164s 247ms/step - loss: 0.2864 - accuracy: 0.8928\n",
            "Epoch: 13/50\n",
            "70/70 [==============================] - 6s 88ms/step - val_loss: 0.4294 - val_accuracy: 0.8841\n",
            "Epoch: 14/50\n",
            "662/662 [==============================] - 164s 247ms/step - loss: 0.2773 - accuracy: 0.8975\n",
            "Epoch: 14/50\n",
            "70/70 [==============================] - 6s 89ms/step - val_loss: 0.5107 - val_accuracy: 0.8551\n",
            "Epoch: 15/50\n",
            "662/662 [==============================] - 164s 247ms/step - loss: 0.2928 - accuracy: 0.8868\n",
            "Epoch: 15/50\n",
            "70/70 [==============================] - 6s 89ms/step - val_loss: 0.3585 - val_accuracy: 0.8659\n",
            "Epoch: 16/50\n",
            "662/662 [==============================] - 164s 248ms/step - loss: 0.2722 - accuracy: 0.8930\n",
            "Epoch: 16/50\n",
            "70/70 [==============================] - 6s 88ms/step - val_loss: 0.5553 - val_accuracy: 0.8442\n",
            "Epoch: 17/50\n",
            "662/662 [==============================] - 164s 248ms/step - loss: 0.2941 - accuracy: 0.8857\n",
            "Epoch: 17/50\n",
            "70/70 [==============================] - 6s 89ms/step - val_loss: 0.5712 - val_accuracy: 0.8152\n",
            "Epoch: 18/50\n",
            "662/662 [==============================] - 164s 248ms/step - loss: 0.2520 - accuracy: 0.8937\n",
            "Epoch: 18/50\n",
            "70/70 [==============================] - 6s 89ms/step - val_loss: 0.4610 - val_accuracy: 0.8623\n",
            "Epoch: 19/50\n",
            "662/662 [==============================] - 164s 247ms/step - loss: 0.2957 - accuracy: 0.8870\n",
            "Epoch: 19/50\n",
            "70/70 [==============================] - 6s 89ms/step - val_loss: 0.4914 - val_accuracy: 0.8587\n",
            "Epoch: 20/50\n",
            "662/662 [==============================] - 164s 248ms/step - loss: 0.2576 - accuracy: 0.8994\n",
            "Epoch: 20/50\n",
            "70/70 [==============================] - 6s 89ms/step - val_loss: 0.3611 - val_accuracy: 0.9022\n",
            "Epoch: 21/50\n",
            "662/662 [==============================] - 164s 248ms/step - loss: 0.2628 - accuracy: 0.8926\n",
            "Epoch: 21/50\n",
            "69/70 [============================>.] - ETA: 0s - val_loss: 0.3451 - val_accuracy: 0.8623\n",
            "Improved validation loss: 0.0198\n",
            "Saving the model to drive/My Drive/Course Project Image Processing - Histopathology/db_dir/LiverNet1_3.pth.tar\n",
            "\n",
            "70/70 [==============================] - 6s 90ms/step - val_loss: 0.3451 - val_accuracy: 0.8623\n",
            "Epoch: 22/50\n",
            "662/662 [==============================] - 164s 248ms/step - loss: 0.2902 - accuracy: 0.8892\n",
            "Epoch: 22/50\n",
            "70/70 [==============================] - 6s 89ms/step - val_loss: 0.3511 - val_accuracy: 0.8696\n",
            "Epoch: 23/50\n",
            "662/662 [==============================] - 164s 248ms/step - loss: 0.2700 - accuracy: 0.8918\n",
            "Epoch: 23/50\n",
            "69/70 [============================>.] - ETA: 0s - val_loss: 0.3723 - val_accuracy: 0.8478\n",
            "Improved validation loss: 0.0010\n",
            "Saving the model to drive/My Drive/Course Project Image Processing - Histopathology/db_dir/LiverNet1_3.pth.tar\n",
            "\n",
            "70/70 [==============================] - 6s 90ms/step - val_loss: 0.3723 - val_accuracy: 0.8478\n",
            "Epoch: 24/50\n",
            "662/662 [==============================] - 164s 248ms/step - loss: 0.3052 - accuracy: 0.8918\n",
            "Epoch: 24/50\n",
            "70/70 [==============================] - 6s 90ms/step - val_loss: 0.6366 - val_accuracy: 0.8007\n",
            "Epoch: 25/50\n",
            "662/662 [==============================] - 164s 248ms/step - loss: 0.2662 - accuracy: 0.8834\n",
            "Epoch: 25/50\n",
            "70/70 [==============================] - 6s 89ms/step - val_loss: 0.5744 - val_accuracy: 0.8406\n",
            "Epoch: 26/50\n",
            "662/662 [==============================] - 164s 248ms/step - loss: 0.2796 - accuracy: 0.8950\n",
            "Epoch: 26/50\n",
            "70/70 [==============================] - 6s 89ms/step - val_loss: 0.6484 - val_accuracy: 0.7862\n",
            "Epoch: 27/50\n",
            "662/662 [==============================] - 164s 248ms/step - loss: 0.2449 - accuracy: 0.9047\n",
            "Epoch: 27/50\n",
            "70/70 [==============================] - 6s 89ms/step - val_loss: 0.7171 - val_accuracy: 0.7971\n",
            "Epoch: 28/50\n",
            "662/662 [==============================] - 164s 248ms/step - loss: 0.2832 - accuracy: 0.8888\n",
            "Epoch: 28/50\n",
            "70/70 [==============================] - 6s 89ms/step - val_loss: 0.7740 - val_accuracy: 0.7428\n",
            "Epoch: 29/50\n",
            "662/662 [==============================] - 164s 248ms/step - loss: 0.2724 - accuracy: 0.8967\n",
            "Epoch: 29/50\n",
            "70/70 [==============================] - 6s 89ms/step - val_loss: 0.7905 - val_accuracy: 0.6848\n",
            "Epoch: 30/50\n",
            "662/662 [==============================] - 164s 248ms/step - loss: 0.2604 - accuracy: 0.8967\n",
            "Epoch: 30/50\n",
            "70/70 [==============================] - 6s 89ms/step - val_loss: 0.4268 - val_accuracy: 0.8188\n",
            "Epoch: 31/50\n",
            "662/662 [==============================] - 164s 248ms/step - loss: 0.2503 - accuracy: 0.9008\n",
            "Epoch: 31/50\n",
            "70/70 [==============================] - 6s 89ms/step - val_loss: 0.2560 - val_accuracy: 0.9130\n",
            "Epoch: 32/50\n",
            "662/662 [==============================] - 164s 248ms/step - loss: 0.2958 - accuracy: 0.8917\n",
            "Epoch: 32/50\n",
            "70/70 [==============================] - 6s 90ms/step - val_loss: 0.2606 - val_accuracy: 0.8877\n",
            "Epoch: 33/50\n",
            "662/662 [==============================] - 165s 249ms/step - loss: 0.2773 - accuracy: 0.8925\n",
            "Epoch: 33/50\n",
            "70/70 [==============================] - 6s 90ms/step - val_loss: 0.3065 - val_accuracy: 0.8949\n",
            "Epoch: 34/50\n",
            "662/662 [==============================] - 165s 249ms/step - loss: 0.2573 - accuracy: 0.9014\n",
            "Epoch: 34/50\n",
            "70/70 [==============================] - 6s 90ms/step - val_loss: 0.3907 - val_accuracy: 0.8949\n",
            "Epoch: 35/50\n",
            "662/662 [==============================] - 165s 249ms/step - loss: 0.2540 - accuracy: 0.8994\n",
            "Epoch: 35/50\n",
            "70/70 [==============================] - 6s 91ms/step - val_loss: 0.4063 - val_accuracy: 0.8841\n",
            "Epoch: 36/50\n",
            "662/662 [==============================] - 165s 249ms/step - loss: 0.2583 - accuracy: 0.9073\n",
            "Epoch: 36/50\n",
            "70/70 [==============================] - 6s 90ms/step - val_loss: 0.2980 - val_accuracy: 0.9058\n",
            "Epoch: 37/50\n",
            "662/662 [==============================] - 165s 249ms/step - loss: 0.2372 - accuracy: 0.9073\n",
            "Epoch: 37/50\n",
            "70/70 [==============================] - 6s 90ms/step - val_loss: 0.3468 - val_accuracy: 0.8659\n",
            "Epoch: 38/50\n",
            "662/662 [==============================] - 165s 249ms/step - loss: 0.2370 - accuracy: 0.9061\n",
            "Epoch: 38/50\n",
            "70/70 [==============================] - 6s 90ms/step - val_loss: 0.4899 - val_accuracy: 0.8478\n",
            "Epoch: 39/50\n",
            "662/662 [==============================] - 165s 249ms/step - loss: 0.2478 - accuracy: 0.9005\n",
            "Epoch: 39/50\n",
            "70/70 [==============================] - 6s 90ms/step - val_loss: 0.4222 - val_accuracy: 0.8442\n",
            "Epoch: 40/50\n",
            "662/662 [==============================] - 165s 249ms/step - loss: 0.2416 - accuracy: 0.9028\n",
            "Epoch: 40/50\n",
            "70/70 [==============================] - 6s 90ms/step - val_loss: 0.3637 - val_accuracy: 0.8696\n",
            "Epoch: 41/50\n",
            "662/662 [==============================] - 165s 249ms/step - loss: 0.2065 - accuracy: 0.9124\n",
            "Epoch: 41/50\n",
            "70/70 [==============================] - 6s 90ms/step - val_loss: 0.4652 - val_accuracy: 0.8442\n",
            "Epoch: 42/50\n",
            "662/662 [==============================] - 165s 249ms/step - loss: 0.2351 - accuracy: 0.9051\n",
            "Epoch: 42/50\n",
            "70/70 [==============================] - 6s 91ms/step - val_loss: 0.2745 - val_accuracy: 0.8841\n",
            "Epoch: 43/50\n",
            "662/662 [==============================] - 165s 249ms/step - loss: 0.2803 - accuracy: 0.8983\n",
            "Epoch: 43/50\n",
            "70/70 [==============================] - 6s 90ms/step - val_loss: 0.4881 - val_accuracy: 0.8261\n",
            "Epoch: 44/50\n",
            "662/662 [==============================] - 165s 249ms/step - loss: 0.2450 - accuracy: 0.9047\n",
            "Epoch: 44/50\n",
            "70/70 [==============================] - 6s 90ms/step - val_loss: 0.8673 - val_accuracy: 0.7101\n",
            "Epoch: 45/50\n",
            "662/662 [==============================] - 165s 249ms/step - loss: 0.2404 - accuracy: 0.9141\n",
            "Epoch: 45/50\n",
            "70/70 [==============================] - 6s 90ms/step - val_loss: 0.6571 - val_accuracy: 0.8188\n",
            "Epoch: 46/50\n",
            "662/662 [==============================] - 164s 248ms/step - loss: 0.2374 - accuracy: 0.9078\n",
            "Epoch: 46/50\n",
            "70/70 [==============================] - 6s 88ms/step - val_loss: 0.7822 - val_accuracy: 0.7536\n",
            "Epoch: 47/50\n",
            "662/662 [==============================] - 165s 250ms/step - loss: 0.2031 - accuracy: 0.9172\n",
            "Epoch: 47/50\n",
            "70/70 [==============================] - 6s 89ms/step - val_loss: 0.7186 - val_accuracy: 0.8007\n",
            "Epoch: 48/50\n",
            "662/662 [==============================] - 165s 250ms/step - loss: 0.2080 - accuracy: 0.9160\n",
            "Epoch: 48/50\n",
            "70/70 [==============================] - 6s 89ms/step - val_loss: 0.8251 - val_accuracy: 0.6884\n",
            "Epoch: 49/50\n",
            "662/662 [==============================] - 164s 248ms/step - loss: 0.2524 - accuracy: 0.9061\n",
            "Epoch: 49/50\n",
            "70/70 [==============================] - 6s 90ms/step - val_loss: 0.6786 - val_accuracy: 0.8478\n",
            "Epoch: 50/50\n",
            "662/662 [==============================] - 164s 248ms/step - loss: 0.2706 - accuracy: 0.9049\n",
            "Epoch: 50/50\n",
            "70/70 [==============================] - 6s 89ms/step - val_loss: 0.5363 - val_accuracy: 0.8551\n"
          ],
          "name": "stdout"
        }
      ]
    },
    {
      "cell_type": "markdown",
      "metadata": {
        "id": "ruuzQKRqgzMZ"
      },
      "source": [
        "##Testing"
      ]
    },
    {
      "cell_type": "code",
      "metadata": {
        "id": "e_YKfqi6JXq8"
      },
      "source": [
        "def CONFUSION_MATRIX(y_true, y_pred, class_labels, order=False):\n",
        "  \n",
        "  num_classes= len(class_labels)\n",
        "  num_examples= len(y_true)\n",
        "\n",
        "  if order is False:\n",
        "    new_labels= np.arange(num_classes)\n",
        "    \n",
        "    for i in range(num_examples):\n",
        "      y_true[i].item= np.where(class_labels==y_true[i])[0]\n",
        "      y_pred[i].item= np.where(class_labels==y_pred[i])[0]\n",
        "\n",
        "  mat= np.zeros((num_classes,num_classes), dtype=np.int)\n",
        "  \n",
        "  for i in range(num_examples):\n",
        "    true= np.uint8(y_true[i].item())\n",
        "    pred= np.uint8(y_pred[i].item())\n",
        "\n",
        "    mat[true,pred]+=1\n",
        "\n",
        "  return mat\n",
        "\n",
        "\n",
        "def acc_precision_recall_f1(confusion_matrix):\n",
        "\n",
        "  num_classes= confusion_matrix.shape[0]\n",
        "  precision=      np.zeros((num_classes,1), np.float32)\n",
        "  recall=         np.zeros((num_classes,1), np.float32)\n",
        "  true_positives= np.zeros((num_classes,1), np.float32)\n",
        "  true_negatives= np.zeros((num_classes,1), np.float32)\n",
        "  accuracy=       np.zeros((num_classes,1), np.float32)\n",
        "  f1=             np.zeros((num_classes,1), np.float32)\n",
        "\n",
        "  for i in range(num_classes):\n",
        "    \n",
        "    true_positives[i]= confusion_matrix[i,i]\n",
        "    precision[i]= confusion_matrix[i,i]/np.sum(confusion_matrix[i])\n",
        "    recall[i]= confusion_matrix[i,i]/np.sum(confusion_matrix[:,i])\n",
        "    f1[i]= 2*precision[i]*recall[i]/(precision[i]+recall[i])\n",
        "  \n",
        "\n",
        "  for i in range(num_classes):\n",
        "    true_negatives[i]=0\n",
        "    for j in range(num_classes):\n",
        "      for k in range(num_classes):\n",
        "        if (j!=i) and (k!=i):\n",
        "          true_negatives[i]+=confusion_matrix[j,k]\n",
        "\n",
        "  accuracy= (true_positives+true_negatives)/np.sum(confusion_matrix)\n",
        "  return accuracy, precision, recall, f1\n",
        "\n",
        "\n",
        "def Final_Metrics(loader, model, class_labels):\n",
        "\n",
        "    model.eval()\n",
        "    size= len(class_labels)\n",
        "    c_mat= np.zeros((size,size), dtype= np.int)\n",
        "\n",
        "    with torch.no_grad():\n",
        "        for x, y in loader:\n",
        "            x = x.to(device=device)\n",
        "            y = y.to(device=device)\n",
        "\n",
        "            scores= model(x)\n",
        "            _, preds = scores.max(1)\n",
        "\n",
        "            c_mat+= CONFUSION_MATRIX(y, preds, class_labels, order= True)\n",
        "    \n",
        "    accuracy, precision, recall, f1= acc_precision_recall_f1(c_mat)\n",
        "\n",
        "    return c_mat, accuracy, precision, recall, f1"
      ],
      "execution_count": 27,
      "outputs": []
    },
    {
      "cell_type": "code",
      "metadata": {
        "id": "abFcz4fWeP9M",
        "colab": {
          "base_uri": "https://localhost:8080/",
          "height": 36
        },
        "outputId": "1d24aa7c-0da6-4550-ab06-56da15ecdbe9"
      },
      "source": [
        "check_pt_file"
      ],
      "execution_count": 28,
      "outputs": [
        {
          "output_type": "execute_result",
          "data": {
            "application/vnd.google.colaboratory.intrinsic+json": {
              "type": "string"
            },
            "text/plain": [
              "'drive/My Drive/Course Project Image Processing - Histopathology/db_dir/LiverNet1_3.pth.tar'"
            ]
          },
          "metadata": {
            "tags": []
          },
          "execution_count": 28
        }
      ]
    },
    {
      "cell_type": "code",
      "metadata": {
        "id": "W8cRuzw9wVaK"
      },
      "source": [
        "liver_net, _= load_checkpoint(model, optimizer, check_pt_file)"
      ],
      "execution_count": 29,
      "outputs": []
    },
    {
      "cell_type": "code",
      "metadata": {
        "id": "DqdAZbNtudpl"
      },
      "source": [
        "confusion_matrix, accuracy, precision, recall, f1= Final_Metrics(test_loader, liver_net, class_labels)"
      ],
      "execution_count": 30,
      "outputs": []
    },
    {
      "cell_type": "code",
      "metadata": {
        "id": "KiAckr--TLHn",
        "outputId": "8b9fcd37-4ef1-4ae9-814a-1e7c10f04443",
        "colab": {
          "base_uri": "https://localhost:8080/"
        }
      },
      "source": [
        "print(confusion_matrix)\n",
        "print(\"PRECISION:\",np.mean(precision))\n",
        "print(\"RECALL:\",np.mean(recall))\n",
        "print(\"F1 SCORE:\",np.mean(f1))\n",
        "print(\"ACCURACY:\",np.mean(accuracy))"
      ],
      "execution_count": 33,
      "outputs": [
        {
          "output_type": "stream",
          "text": [
            "[[70  0  0  0]\n",
            " [10 70  0  0]\n",
            " [10  6 64  0]\n",
            " [ 1  0 10 39]]\n",
            "PRECISION: 0.86375\n",
            "RECALL: 0.8887871\n",
            "F1 SCORE: 0.86864364\n",
            "ACCURACY: 0.9339286\n"
          ],
          "name": "stdout"
        }
      ]
    },
    {
      "cell_type": "code",
      "metadata": {
        "id": "JcVhQQ8Hu5D6",
        "outputId": "83d4fd63-da3f-4fb3-b105-0be57853d8bb",
        "colab": {
          "base_uri": "https://localhost:8080/",
          "height": 300
        }
      },
      "source": [
        "def get_all_preds(model, loader):\n",
        "    all_preds = torch.tensor([], device=device)\n",
        "    all_labels= torch.tensor([], device=device)\n",
        "    for images,labels in loader:\n",
        "        images= images.to(device)\n",
        "        labels= labels.to(device)\n",
        "        scores = model(images)\n",
        "        _, preds= scores.max(1)\n",
        "        all_preds = torch.cat((all_preds, preds),dim=0)\n",
        "        all_labels = torch.cat((all_labels, labels),dim=0)\n",
        "    return all_preds, all_labels\n",
        "\n",
        "with torch.no_grad():\n",
        "    all_preds, all_labels = get_all_preds(liver_net.to(device), test_loader)\n",
        "\n",
        "cmt= CMT(all_labels.cpu(), all_preds.cpu())\n",
        "names= sorted(os.listdir(test_dir))\n",
        "disp= CMD(cmt, names)\n",
        "disp.plot(cmap='Blues')"
      ],
      "execution_count": 34,
      "outputs": [
        {
          "output_type": "execute_result",
          "data": {
            "text/plain": [
              "<sklearn.metrics._plot.confusion_matrix.ConfusionMatrixDisplay at 0x7ff21166d550>"
            ]
          },
          "metadata": {
            "tags": []
          },
          "execution_count": 34
        },
        {
          "output_type": "display_data",
          "data": {
            "image/png": "[encoded data removed]",
            "text/plain": [
              "<Figure size 432x288 with 2 Axes>"
            ]
          },
          "metadata": {
            "tags": [],
            "needs_background": "light"
          }
        }
      ]
    },
    {
      "cell_type": "code",
      "metadata": {
        "id": "eRTxl6aqKpfE"
      },
      "source": [
        ""
      ],
      "execution_count": 32,
      "outputs": []
    }
  ]
}